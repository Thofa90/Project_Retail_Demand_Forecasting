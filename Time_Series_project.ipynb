{
 "cells": [
  {
   "cell_type": "markdown",
   "metadata": {
    "id": "jNiPCzDq7MTO"
   },
   "source": [
    "# **Importing Libraries**"
   ]
  },
  {
   "cell_type": "code",
   "execution_count": 61,
   "metadata": {
    "colab": {
     "base_uri": "https://localhost:8080/"
    },
    "executionInfo": {
     "elapsed": 13508,
     "status": "ok",
     "timestamp": 1745852753334,
     "user": {
      "displayName": "Thofa Tazkia",
      "userId": "05683292458392942822"
     },
     "user_tz": -120
    },
    "id": "NjE7KU597OIc",
    "outputId": "4282f4ee-642d-42e7-f11a-1af61ea0ecdf"
   },
   "outputs": [],
   "source": [
    "import pandas as pd\n",
    "#%pip install seaborn\n",
    "import matplotlib.pyplot as plt\n",
    "import seaborn as sns\n",
    "from statsmodels.tsa.seasonal import seasonal_decompose\n",
    "from statsmodels.tsa.stattools import adfuller\n",
    "from statsmodels.graphics.tsaplots import plot_acf, plot_pacf\n",
    "\n",
    "#import linear model\n",
    "from sklearn.linear_model import LinearRegression\n",
    "\n",
    "#import metrics\n",
    "from sklearn.metrics import r2_score, root_mean_squared_error\n",
    "from sklearn.model_selection import TimeSeriesSplit"
   ]
  },
  {
   "cell_type": "markdown",
   "metadata": {
    "id": "B7qI7vKh6772"
   },
   "source": [
    "# **Importing Data**"
   ]
  },
  {
   "cell_type": "code",
   "execution_count": 2,
   "metadata": {
    "colab": {
     "base_uri": "https://localhost:8080/"
    },
    "executionInfo": {
     "elapsed": 27654,
     "status": "ok",
     "timestamp": 1745852795989,
     "user": {
      "displayName": "Thofa Tazkia",
      "userId": "05683292458392942822"
     },
     "user_tz": -120
    },
    "id": "Bjl4Ohrw7GE3",
    "outputId": "a4c740fa-cab9-4a98-9fb7-e05d7b09956d"
   },
   "outputs": [],
   "source": [
    "# Mount Google Drive\n",
    "#from google.colab import drive\n",
    "#drive.mount('/content/drive')\n",
    "file_path = './data_store_sales/'"
   ]
  },
  {
   "cell_type": "markdown",
   "metadata": {
    "id": "NeJOcJmUlQDA"
   },
   "source": [
    "## Items"
   ]
  },
  {
   "cell_type": "code",
   "execution_count": 3,
   "metadata": {
    "colab": {
     "base_uri": "https://localhost:8080/"
    },
    "executionInfo": {
     "elapsed": 1826,
     "status": "ok",
     "timestamp": 1745852800799,
     "user": {
      "displayName": "Thofa Tazkia",
      "userId": "05683292458392942822"
     },
     "user_tz": -120
    },
    "id": "dtLJq6_g8hU4",
    "outputId": "3bcac514-cc95-4d41-ab10-883a0c53c1f3"
   },
   "outputs": [
    {
     "name": "stdout",
     "output_type": "stream",
     "text": [
      "The items shape is (4100, 4)\n",
      "<class 'pandas.core.frame.DataFrame'>\n",
      "RangeIndex: 4100 entries, 0 to 4099\n",
      "Data columns (total 4 columns):\n",
      " #   Column      Non-Null Count  Dtype \n",
      "---  ------      --------------  ----- \n",
      " 0   item_nbr    4100 non-null   int64 \n",
      " 1   family      4100 non-null   object\n",
      " 2   class       4100 non-null   int64 \n",
      " 3   perishable  4100 non-null   int64 \n",
      "dtypes: int64(3), object(1)\n",
      "memory usage: 128.3+ KB\n",
      "None\n",
      "\n",
      "value_counts\n",
      " item_nbr      4100\n",
      "family          33\n",
      "class          337\n",
      "perishable       2\n",
      "dtype: int64\n",
      "\n",
      "null value\n",
      " item_nbr      0\n",
      "family        0\n",
      "class         0\n",
      "perishable    0\n",
      "dtype: int64\n"
     ]
    },
    {
     "data": {
      "text/html": [
       "<div>\n",
       "<style scoped>\n",
       "    .dataframe tbody tr th:only-of-type {\n",
       "        vertical-align: middle;\n",
       "    }\n",
       "\n",
       "    .dataframe tbody tr th {\n",
       "        vertical-align: top;\n",
       "    }\n",
       "\n",
       "    .dataframe thead th {\n",
       "        text-align: right;\n",
       "    }\n",
       "</style>\n",
       "<table border=\"1\" class=\"dataframe\">\n",
       "  <thead>\n",
       "    <tr style=\"text-align: right;\">\n",
       "      <th></th>\n",
       "      <th>item_nbr</th>\n",
       "      <th>family</th>\n",
       "      <th>class</th>\n",
       "      <th>perishable</th>\n",
       "    </tr>\n",
       "  </thead>\n",
       "  <tbody>\n",
       "    <tr>\n",
       "      <th>0</th>\n",
       "      <td>96995</td>\n",
       "      <td>GROCERY I</td>\n",
       "      <td>1093</td>\n",
       "      <td>0</td>\n",
       "    </tr>\n",
       "    <tr>\n",
       "      <th>1</th>\n",
       "      <td>99197</td>\n",
       "      <td>GROCERY I</td>\n",
       "      <td>1067</td>\n",
       "      <td>0</td>\n",
       "    </tr>\n",
       "    <tr>\n",
       "      <th>2</th>\n",
       "      <td>103501</td>\n",
       "      <td>CLEANING</td>\n",
       "      <td>3008</td>\n",
       "      <td>0</td>\n",
       "    </tr>\n",
       "    <tr>\n",
       "      <th>3</th>\n",
       "      <td>103520</td>\n",
       "      <td>GROCERY I</td>\n",
       "      <td>1028</td>\n",
       "      <td>0</td>\n",
       "    </tr>\n",
       "    <tr>\n",
       "      <th>4</th>\n",
       "      <td>103665</td>\n",
       "      <td>BREAD/BAKERY</td>\n",
       "      <td>2712</td>\n",
       "      <td>1</td>\n",
       "    </tr>\n",
       "  </tbody>\n",
       "</table>\n",
       "</div>"
      ],
      "text/plain": [
       "   item_nbr        family  class  perishable\n",
       "0     96995     GROCERY I   1093           0\n",
       "1     99197     GROCERY I   1067           0\n",
       "2    103501      CLEANING   3008           0\n",
       "3    103520     GROCERY I   1028           0\n",
       "4    103665  BREAD/BAKERY   2712           1"
      ]
     },
     "execution_count": 3,
     "metadata": {},
     "output_type": "execute_result"
    }
   ],
   "source": [
    "# Load the items CSV files into pandas DataFrames\n",
    "df_items = pd.read_csv(file_path+'items.csv')\n",
    "\n",
    "print('The items shape is',df_items.shape)\n",
    "print(df_items.info())\n",
    "print('\\nvalue_counts\\n', df_items.nunique())\n",
    "print('\\nnull value\\n',df_items.isnull().sum())\n",
    "df_items.head(5)\n"
   ]
  },
  {
   "cell_type": "markdown",
   "metadata": {
    "id": "5ruVtXp3lUlR"
   },
   "source": [
    "## Stores"
   ]
  },
  {
   "cell_type": "code",
   "execution_count": 4,
   "metadata": {
    "colab": {
     "base_uri": "https://localhost:8080/"
    },
    "executionInfo": {
     "elapsed": 384,
     "status": "ok",
     "timestamp": 1745852892702,
     "user": {
      "displayName": "Thofa Tazkia",
      "userId": "05683292458392942822"
     },
     "user_tz": -120
    },
    "id": "d4FRlAMfYRWQ",
    "outputId": "2156ef49-9e39-4724-9f6d-6e5b32780380"
   },
   "outputs": [
    {
     "name": "stdout",
     "output_type": "stream",
     "text": [
      "The items shape is (54, 5)\n",
      "<class 'pandas.core.frame.DataFrame'>\n",
      "RangeIndex: 54 entries, 0 to 53\n",
      "Data columns (total 5 columns):\n",
      " #   Column     Non-Null Count  Dtype \n",
      "---  ------     --------------  ----- \n",
      " 0   store_nbr  54 non-null     int64 \n",
      " 1   city       54 non-null     object\n",
      " 2   state      54 non-null     object\n",
      " 3   type       54 non-null     object\n",
      " 4   cluster    54 non-null     int64 \n",
      "dtypes: int64(2), object(3)\n",
      "memory usage: 2.2+ KB\n",
      "None\n",
      "\n",
      "value_counts\n",
      " store_nbr    54\n",
      "city         22\n",
      "state        16\n",
      "type          5\n",
      "cluster      17\n",
      "dtype: int64\n",
      "\n",
      "null value\n",
      " store_nbr    0\n",
      "city         0\n",
      "state        0\n",
      "type         0\n",
      "cluster      0\n",
      "dtype: int64\n"
     ]
    },
    {
     "data": {
      "text/html": [
       "<div>\n",
       "<style scoped>\n",
       "    .dataframe tbody tr th:only-of-type {\n",
       "        vertical-align: middle;\n",
       "    }\n",
       "\n",
       "    .dataframe tbody tr th {\n",
       "        vertical-align: top;\n",
       "    }\n",
       "\n",
       "    .dataframe thead th {\n",
       "        text-align: right;\n",
       "    }\n",
       "</style>\n",
       "<table border=\"1\" class=\"dataframe\">\n",
       "  <thead>\n",
       "    <tr style=\"text-align: right;\">\n",
       "      <th></th>\n",
       "      <th>store_nbr</th>\n",
       "      <th>city</th>\n",
       "      <th>state</th>\n",
       "      <th>type</th>\n",
       "      <th>cluster</th>\n",
       "    </tr>\n",
       "  </thead>\n",
       "  <tbody>\n",
       "    <tr>\n",
       "      <th>0</th>\n",
       "      <td>1</td>\n",
       "      <td>Quito</td>\n",
       "      <td>Pichincha</td>\n",
       "      <td>D</td>\n",
       "      <td>13</td>\n",
       "    </tr>\n",
       "    <tr>\n",
       "      <th>1</th>\n",
       "      <td>2</td>\n",
       "      <td>Quito</td>\n",
       "      <td>Pichincha</td>\n",
       "      <td>D</td>\n",
       "      <td>13</td>\n",
       "    </tr>\n",
       "    <tr>\n",
       "      <th>2</th>\n",
       "      <td>3</td>\n",
       "      <td>Quito</td>\n",
       "      <td>Pichincha</td>\n",
       "      <td>D</td>\n",
       "      <td>8</td>\n",
       "    </tr>\n",
       "    <tr>\n",
       "      <th>3</th>\n",
       "      <td>4</td>\n",
       "      <td>Quito</td>\n",
       "      <td>Pichincha</td>\n",
       "      <td>D</td>\n",
       "      <td>9</td>\n",
       "    </tr>\n",
       "    <tr>\n",
       "      <th>4</th>\n",
       "      <td>5</td>\n",
       "      <td>Santo Domingo</td>\n",
       "      <td>Santo Domingo de los Tsachilas</td>\n",
       "      <td>D</td>\n",
       "      <td>4</td>\n",
       "    </tr>\n",
       "  </tbody>\n",
       "</table>\n",
       "</div>"
      ],
      "text/plain": [
       "   store_nbr           city                           state type  cluster\n",
       "0          1          Quito                       Pichincha    D       13\n",
       "1          2          Quito                       Pichincha    D       13\n",
       "2          3          Quito                       Pichincha    D        8\n",
       "3          4          Quito                       Pichincha    D        9\n",
       "4          5  Santo Domingo  Santo Domingo de los Tsachilas    D        4"
      ]
     },
     "execution_count": 4,
     "metadata": {},
     "output_type": "execute_result"
    }
   ],
   "source": [
    "# Load the stores CSV files into pandas DataFrames\n",
    "df_stores = pd.read_csv(file_path+'stores.csv')\n",
    "print('The items shape is',df_stores.shape)\n",
    "print(df_stores.info())\n",
    "print('\\nvalue_counts\\n', df_stores.nunique())\n",
    "print('\\nnull value\\n',df_stores.isnull().sum())\n",
    "df_stores.head(5)"
   ]
  },
  {
   "cell_type": "markdown",
   "metadata": {
    "id": "oV8AR4uvl1PU"
   },
   "source": [
    "## Transactions"
   ]
  },
  {
   "cell_type": "code",
   "execution_count": 5,
   "metadata": {
    "colab": {
     "base_uri": "https://localhost:8080/"
    },
    "executionInfo": {
     "elapsed": 67,
     "status": "ok",
     "timestamp": 1745843725676,
     "user": {
      "displayName": "Thofa Tazkia",
      "userId": "05683292458392942822"
     },
     "user_tz": -120
    },
    "id": "5KPIkkaclX5i",
    "outputId": "a0c3f825-8394-402f-d103-2c209bca5c48"
   },
   "outputs": [
    {
     "name": "stdout",
     "output_type": "stream",
     "text": [
      "The items shape is (83488, 3)\n",
      "<class 'pandas.core.frame.DataFrame'>\n",
      "RangeIndex: 83488 entries, 0 to 83487\n",
      "Data columns (total 3 columns):\n",
      " #   Column        Non-Null Count  Dtype \n",
      "---  ------        --------------  ----- \n",
      " 0   date          83488 non-null  object\n",
      " 1   store_nbr     83488 non-null  int64 \n",
      " 2   transactions  83488 non-null  int64 \n",
      "dtypes: int64(2), object(1)\n",
      "memory usage: 1.9+ MB\n",
      "None\n",
      "\n",
      "value_counts\n",
      " date            1682\n",
      "store_nbr         54\n",
      "transactions    4993\n",
      "dtype: int64\n",
      "\n",
      "null value\n",
      " date            0\n",
      "store_nbr       0\n",
      "transactions    0\n",
      "dtype: int64\n"
     ]
    },
    {
     "data": {
      "text/html": [
       "<div>\n",
       "<style scoped>\n",
       "    .dataframe tbody tr th:only-of-type {\n",
       "        vertical-align: middle;\n",
       "    }\n",
       "\n",
       "    .dataframe tbody tr th {\n",
       "        vertical-align: top;\n",
       "    }\n",
       "\n",
       "    .dataframe thead th {\n",
       "        text-align: right;\n",
       "    }\n",
       "</style>\n",
       "<table border=\"1\" class=\"dataframe\">\n",
       "  <thead>\n",
       "    <tr style=\"text-align: right;\">\n",
       "      <th></th>\n",
       "      <th>date</th>\n",
       "      <th>store_nbr</th>\n",
       "      <th>transactions</th>\n",
       "    </tr>\n",
       "  </thead>\n",
       "  <tbody>\n",
       "    <tr>\n",
       "      <th>0</th>\n",
       "      <td>2013-01-01</td>\n",
       "      <td>25</td>\n",
       "      <td>770</td>\n",
       "    </tr>\n",
       "    <tr>\n",
       "      <th>1</th>\n",
       "      <td>2013-01-02</td>\n",
       "      <td>1</td>\n",
       "      <td>2111</td>\n",
       "    </tr>\n",
       "    <tr>\n",
       "      <th>2</th>\n",
       "      <td>2013-01-02</td>\n",
       "      <td>2</td>\n",
       "      <td>2358</td>\n",
       "    </tr>\n",
       "    <tr>\n",
       "      <th>3</th>\n",
       "      <td>2013-01-02</td>\n",
       "      <td>3</td>\n",
       "      <td>3487</td>\n",
       "    </tr>\n",
       "    <tr>\n",
       "      <th>4</th>\n",
       "      <td>2013-01-02</td>\n",
       "      <td>4</td>\n",
       "      <td>1922</td>\n",
       "    </tr>\n",
       "  </tbody>\n",
       "</table>\n",
       "</div>"
      ],
      "text/plain": [
       "         date  store_nbr  transactions\n",
       "0  2013-01-01         25           770\n",
       "1  2013-01-02          1          2111\n",
       "2  2013-01-02          2          2358\n",
       "3  2013-01-02          3          3487\n",
       "4  2013-01-02          4          1922"
      ]
     },
     "execution_count": 5,
     "metadata": {},
     "output_type": "execute_result"
    }
   ],
   "source": [
    "# Load the transactions CSV files into pandas DataFrames\n",
    "df_transactions = pd.read_csv(file_path+'transactions.csv')\n",
    "print('The items shape is',df_transactions.shape)\n",
    "print(df_transactions.info())\n",
    "print('\\nvalue_counts\\n', df_transactions.nunique())\n",
    "print('\\nnull value\\n',df_transactions.isnull().sum())\n",
    "df_transactions.head(5)\n"
   ]
  },
  {
   "cell_type": "markdown",
   "metadata": {
    "id": "OLnfrBR9njbb"
   },
   "source": [
    "## Oil"
   ]
  },
  {
   "cell_type": "code",
   "execution_count": 6,
   "metadata": {
    "colab": {
     "base_uri": "https://localhost:8080/"
    },
    "executionInfo": {
     "elapsed": 20,
     "status": "ok",
     "timestamp": 1745843725698,
     "user": {
      "displayName": "Thofa Tazkia",
      "userId": "05683292458392942822"
     },
     "user_tz": -120
    },
    "id": "JlqOI84fnnBf",
    "outputId": "9abd9ed6-45c7-4cfb-b0c4-b312431fd899"
   },
   "outputs": [
    {
     "name": "stdout",
     "output_type": "stream",
     "text": [
      "The items shape is (1218, 2)\n",
      "<class 'pandas.core.frame.DataFrame'>\n",
      "RangeIndex: 1218 entries, 0 to 1217\n",
      "Data columns (total 2 columns):\n",
      " #   Column      Non-Null Count  Dtype  \n",
      "---  ------      --------------  -----  \n",
      " 0   date        1218 non-null   object \n",
      " 1   dcoilwtico  1175 non-null   float64\n",
      "dtypes: float64(1), object(1)\n",
      "memory usage: 19.2+ KB\n",
      "\n",
      "The info\n",
      " None\n",
      "\n",
      "value_counts\n",
      " date          1218\n",
      "dcoilwtico     998\n",
      "dtype: int64\n",
      "\n",
      "null value\n",
      " date           0\n",
      "dcoilwtico    43\n",
      "dtype: int64\n"
     ]
    },
    {
     "data": {
      "text/html": [
       "<div>\n",
       "<style scoped>\n",
       "    .dataframe tbody tr th:only-of-type {\n",
       "        vertical-align: middle;\n",
       "    }\n",
       "\n",
       "    .dataframe tbody tr th {\n",
       "        vertical-align: top;\n",
       "    }\n",
       "\n",
       "    .dataframe thead th {\n",
       "        text-align: right;\n",
       "    }\n",
       "</style>\n",
       "<table border=\"1\" class=\"dataframe\">\n",
       "  <thead>\n",
       "    <tr style=\"text-align: right;\">\n",
       "      <th></th>\n",
       "      <th>date</th>\n",
       "      <th>dcoilwtico</th>\n",
       "    </tr>\n",
       "  </thead>\n",
       "  <tbody>\n",
       "    <tr>\n",
       "      <th>0</th>\n",
       "      <td>2013-01-01</td>\n",
       "      <td>NaN</td>\n",
       "    </tr>\n",
       "    <tr>\n",
       "      <th>1</th>\n",
       "      <td>2013-01-02</td>\n",
       "      <td>93.14</td>\n",
       "    </tr>\n",
       "    <tr>\n",
       "      <th>2</th>\n",
       "      <td>2013-01-03</td>\n",
       "      <td>92.97</td>\n",
       "    </tr>\n",
       "    <tr>\n",
       "      <th>3</th>\n",
       "      <td>2013-01-04</td>\n",
       "      <td>93.12</td>\n",
       "    </tr>\n",
       "    <tr>\n",
       "      <th>4</th>\n",
       "      <td>2013-01-07</td>\n",
       "      <td>93.20</td>\n",
       "    </tr>\n",
       "  </tbody>\n",
       "</table>\n",
       "</div>"
      ],
      "text/plain": [
       "         date  dcoilwtico\n",
       "0  2013-01-01         NaN\n",
       "1  2013-01-02       93.14\n",
       "2  2013-01-03       92.97\n",
       "3  2013-01-04       93.12\n",
       "4  2013-01-07       93.20"
      ]
     },
     "execution_count": 6,
     "metadata": {},
     "output_type": "execute_result"
    }
   ],
   "source": [
    "# Load the oil CSV files into pandas DataFrames\n",
    "df_oil = pd.read_csv(file_path+'oil.csv')\n",
    "print('The items shape is',df_oil.shape)\n",
    "print('\\nThe info\\n',df_oil.info())\n",
    "print('\\nvalue_counts\\n', df_oil.nunique())\n",
    "print('\\nnull value\\n',df_oil.isnull().sum())\n",
    "df_oil.head(5)"
   ]
  },
  {
   "cell_type": "code",
   "execution_count": 7,
   "metadata": {
    "colab": {
     "base_uri": "https://localhost:8080/",
     "height": 564
    },
    "executionInfo": {
     "elapsed": 339,
     "status": "ok",
     "timestamp": 1745843726038,
     "user": {
      "displayName": "Thofa Tazkia",
      "userId": "05683292458392942822"
     },
     "user_tz": -120
    },
    "id": "SJnxlLX_uVEq",
    "outputId": "9d56c0c7-588c-42df-fa6f-4ead256a74d1"
   },
   "outputs": [
    {
     "data": {
      "image/png": "[encoded data removed]",
      "text/plain": [
       "<Figure size 1000x600 with 1 Axes>"
      ]
     },
     "metadata": {},
     "output_type": "display_data"
    }
   ],
   "source": [
    "# prompt: plot date vs dcoilwtico from oil dataset\n",
    "\n",
    "import pandas as pd\n",
    "import matplotlib.pyplot as plt\n",
    "# Convert the 'date' column to datetime objects\n",
    "df_oil['date'] = pd.to_datetime(df_oil['date'])\n",
    "\n",
    "# Create the plot\n",
    "plt.figure(figsize=(10, 6))\n",
    "plt.plot(df_oil['date'], df_oil['dcoilwtico'])\n",
    "plt.xlabel('Date')\n",
    "plt.ylabel('dcoilwtico')\n",
    "plt.title('Date vs. dcoilwtico')\n",
    "plt.grid(True)\n",
    "plt.show()\n"
   ]
  },
  {
   "cell_type": "markdown",
   "metadata": {
    "id": "WFRMTQiCpwNp"
   },
   "source": [
    "## Holidays Event"
   ]
  },
  {
   "cell_type": "code",
   "execution_count": 8,
   "metadata": {
    "colab": {
     "base_uri": "https://localhost:8080/"
    },
    "executionInfo": {
     "elapsed": 8,
     "status": "ok",
     "timestamp": 1745843726048,
     "user": {
      "displayName": "Thofa Tazkia",
      "userId": "05683292458392942822"
     },
     "user_tz": -120
    },
    "id": "QDQsHTyTpzhC",
    "outputId": "e4e982eb-1b71-4f1a-9cdb-6511f195360c"
   },
   "outputs": [
    {
     "name": "stdout",
     "output_type": "stream",
     "text": [
      "The items shape is (350, 6)\n",
      "<class 'pandas.core.frame.DataFrame'>\n",
      "RangeIndex: 350 entries, 0 to 349\n",
      "Data columns (total 6 columns):\n",
      " #   Column       Non-Null Count  Dtype \n",
      "---  ------       --------------  ----- \n",
      " 0   date         350 non-null    object\n",
      " 1   type         350 non-null    object\n",
      " 2   locale       350 non-null    object\n",
      " 3   locale_name  350 non-null    object\n",
      " 4   description  350 non-null    object\n",
      " 5   transferred  350 non-null    bool  \n",
      "dtypes: bool(1), object(5)\n",
      "memory usage: 14.1+ KB\n",
      "None\n",
      "\n",
      "value_counts\n",
      " date           312\n",
      "type             6\n",
      "locale           3\n",
      "locale_name     24\n",
      "description    103\n",
      "transferred      2\n",
      "dtype: int64\n",
      "\n",
      "null value\n",
      " date           0\n",
      "type           0\n",
      "locale         0\n",
      "locale_name    0\n",
      "description    0\n",
      "transferred    0\n",
      "dtype: int64\n"
     ]
    },
    {
     "data": {
      "text/html": [
       "<div>\n",
       "<style scoped>\n",
       "    .dataframe tbody tr th:only-of-type {\n",
       "        vertical-align: middle;\n",
       "    }\n",
       "\n",
       "    .dataframe tbody tr th {\n",
       "        vertical-align: top;\n",
       "    }\n",
       "\n",
       "    .dataframe thead th {\n",
       "        text-align: right;\n",
       "    }\n",
       "</style>\n",
       "<table border=\"1\" class=\"dataframe\">\n",
       "  <thead>\n",
       "    <tr style=\"text-align: right;\">\n",
       "      <th></th>\n",
       "      <th>date</th>\n",
       "      <th>type</th>\n",
       "      <th>locale</th>\n",
       "      <th>locale_name</th>\n",
       "      <th>description</th>\n",
       "      <th>transferred</th>\n",
       "    </tr>\n",
       "  </thead>\n",
       "  <tbody>\n",
       "    <tr>\n",
       "      <th>0</th>\n",
       "      <td>2012-03-02</td>\n",
       "      <td>Holiday</td>\n",
       "      <td>Local</td>\n",
       "      <td>Manta</td>\n",
       "      <td>Fundacion de Manta</td>\n",
       "      <td>False</td>\n",
       "    </tr>\n",
       "    <tr>\n",
       "      <th>1</th>\n",
       "      <td>2012-04-01</td>\n",
       "      <td>Holiday</td>\n",
       "      <td>Regional</td>\n",
       "      <td>Cotopaxi</td>\n",
       "      <td>Provincializacion de Cotopaxi</td>\n",
       "      <td>False</td>\n",
       "    </tr>\n",
       "    <tr>\n",
       "      <th>2</th>\n",
       "      <td>2012-04-12</td>\n",
       "      <td>Holiday</td>\n",
       "      <td>Local</td>\n",
       "      <td>Cuenca</td>\n",
       "      <td>Fundacion de Cuenca</td>\n",
       "      <td>False</td>\n",
       "    </tr>\n",
       "    <tr>\n",
       "      <th>3</th>\n",
       "      <td>2012-04-14</td>\n",
       "      <td>Holiday</td>\n",
       "      <td>Local</td>\n",
       "      <td>Libertad</td>\n",
       "      <td>Cantonizacion de Libertad</td>\n",
       "      <td>False</td>\n",
       "    </tr>\n",
       "    <tr>\n",
       "      <th>4</th>\n",
       "      <td>2012-04-21</td>\n",
       "      <td>Holiday</td>\n",
       "      <td>Local</td>\n",
       "      <td>Riobamba</td>\n",
       "      <td>Cantonizacion de Riobamba</td>\n",
       "      <td>False</td>\n",
       "    </tr>\n",
       "  </tbody>\n",
       "</table>\n",
       "</div>"
      ],
      "text/plain": [
       "         date     type    locale locale_name                    description  \\\n",
       "0  2012-03-02  Holiday     Local       Manta             Fundacion de Manta   \n",
       "1  2012-04-01  Holiday  Regional    Cotopaxi  Provincializacion de Cotopaxi   \n",
       "2  2012-04-12  Holiday     Local      Cuenca            Fundacion de Cuenca   \n",
       "3  2012-04-14  Holiday     Local    Libertad      Cantonizacion de Libertad   \n",
       "4  2012-04-21  Holiday     Local    Riobamba      Cantonizacion de Riobamba   \n",
       "\n",
       "   transferred  \n",
       "0        False  \n",
       "1        False  \n",
       "2        False  \n",
       "3        False  \n",
       "4        False  "
      ]
     },
     "execution_count": 8,
     "metadata": {},
     "output_type": "execute_result"
    }
   ],
   "source": [
    "# Load the holiday_events CSV files into pandas DataFrames\n",
    "df_holiday = pd.read_csv(file_path+'holidays_events.csv')\n",
    "print('The items shape is',df_holiday.shape)\n",
    "print(df_holiday.info())\n",
    "print('\\nvalue_counts\\n', df_holiday.nunique())\n",
    "print('\\nnull value\\n',df_holiday.isnull().sum())\n",
    "df_holiday.head(5)"
   ]
  },
  {
   "cell_type": "markdown",
   "metadata": {
    "id": "MF9sfs1m5XSD"
   },
   "source": [
    "## Train"
   ]
  },
  {
   "cell_type": "code",
   "execution_count": 9,
   "metadata": {},
   "outputs": [
    {
     "name": "stdout",
     "output_type": "stream",
     "text": [
      "The items shape is (2000000, 6)\n",
      "<class 'pandas.core.frame.DataFrame'>\n",
      "RangeIndex: 2000000 entries, 0 to 1999999\n",
      "Data columns (total 6 columns):\n",
      " #   Column       Dtype  \n",
      "---  ------       -----  \n",
      " 0   id           int64  \n",
      " 1   date         object \n",
      " 2   store_nbr    int64  \n",
      " 3   item_nbr     int64  \n",
      " 4   unit_sales   float64\n",
      " 5   onpromotion  float64\n",
      "dtypes: float64(2), int64(3), object(1)\n",
      "memory usage: 91.6+ MB\n",
      "None\n",
      "\n",
      "value_counts\n",
      " id             2000000\n",
      "date                50\n",
      "store_nbr           46\n",
      "item_nbr          1625\n",
      "unit_sales       33764\n",
      "onpromotion          0\n",
      "dtype: int64\n",
      "null value\n",
      " id                   0\n",
      "date                 0\n",
      "store_nbr            0\n",
      "item_nbr             0\n",
      "unit_sales           0\n",
      "onpromotion    2000000\n",
      "dtype: int64\n"
     ]
    },
    {
     "data": {
      "text/html": [
       "<div>\n",
       "<style scoped>\n",
       "    .dataframe tbody tr th:only-of-type {\n",
       "        vertical-align: middle;\n",
       "    }\n",
       "\n",
       "    .dataframe tbody tr th {\n",
       "        vertical-align: top;\n",
       "    }\n",
       "\n",
       "    .dataframe thead th {\n",
       "        text-align: right;\n",
       "    }\n",
       "</style>\n",
       "<table border=\"1\" class=\"dataframe\">\n",
       "  <thead>\n",
       "    <tr style=\"text-align: right;\">\n",
       "      <th></th>\n",
       "      <th>id</th>\n",
       "      <th>date</th>\n",
       "      <th>store_nbr</th>\n",
       "      <th>item_nbr</th>\n",
       "      <th>unit_sales</th>\n",
       "      <th>onpromotion</th>\n",
       "    </tr>\n",
       "  </thead>\n",
       "  <tbody>\n",
       "    <tr>\n",
       "      <th>0</th>\n",
       "      <td>0</td>\n",
       "      <td>2013-01-01</td>\n",
       "      <td>25</td>\n",
       "      <td>103665</td>\n",
       "      <td>7.0</td>\n",
       "      <td>NaN</td>\n",
       "    </tr>\n",
       "    <tr>\n",
       "      <th>1</th>\n",
       "      <td>1</td>\n",
       "      <td>2013-01-01</td>\n",
       "      <td>25</td>\n",
       "      <td>105574</td>\n",
       "      <td>1.0</td>\n",
       "      <td>NaN</td>\n",
       "    </tr>\n",
       "    <tr>\n",
       "      <th>2</th>\n",
       "      <td>2</td>\n",
       "      <td>2013-01-01</td>\n",
       "      <td>25</td>\n",
       "      <td>105575</td>\n",
       "      <td>2.0</td>\n",
       "      <td>NaN</td>\n",
       "    </tr>\n",
       "    <tr>\n",
       "      <th>3</th>\n",
       "      <td>3</td>\n",
       "      <td>2013-01-01</td>\n",
       "      <td>25</td>\n",
       "      <td>108079</td>\n",
       "      <td>1.0</td>\n",
       "      <td>NaN</td>\n",
       "    </tr>\n",
       "    <tr>\n",
       "      <th>4</th>\n",
       "      <td>4</td>\n",
       "      <td>2013-01-01</td>\n",
       "      <td>25</td>\n",
       "      <td>108701</td>\n",
       "      <td>1.0</td>\n",
       "      <td>NaN</td>\n",
       "    </tr>\n",
       "  </tbody>\n",
       "</table>\n",
       "</div>"
      ],
      "text/plain": [
       "   id        date  store_nbr  item_nbr  unit_sales  onpromotion\n",
       "0   0  2013-01-01         25    103665         7.0          NaN\n",
       "1   1  2013-01-01         25    105574         1.0          NaN\n",
       "2   2  2013-01-01         25    105575         2.0          NaN\n",
       "3   3  2013-01-01         25    108079         1.0          NaN\n",
       "4   4  2013-01-01         25    108701         1.0          NaN"
      ]
     },
     "execution_count": 9,
     "metadata": {},
     "output_type": "execute_result"
    }
   ],
   "source": [
    "# To make sure we fit RAM avaible on Google-Colab, we will load only part of the file\n",
    "df_train = pd.read_csv(file_path+'train.csv', nrows=2e6)\n",
    "print('The items shape is',df_train.shape)\n",
    "print(df_train.info())\n",
    "print('\\nvalue_counts\\n', df_train.nunique())\n",
    "print('null value\\n',df_train.isnull().sum())\n",
    "df_train.head(5)"
   ]
  },
  {
   "cell_type": "markdown",
   "metadata": {
    "id": "3cO9NxFc6h6u"
   },
   "source": [
    "## **Filtering train data for state (Guayas) and only for top 3 families based on items counts**"
   ]
  },
  {
   "cell_type": "code",
   "execution_count": 10,
   "metadata": {
    "colab": {
     "base_uri": "https://localhost:8080/"
    },
    "collapsed": true,
    "executionInfo": {
     "elapsed": 96625,
     "status": "ok",
     "timestamp": 1745853017807,
     "user": {
      "displayName": "Thofa Tazkia",
      "userId": "05683292458392942822"
     },
     "user_tz": -120
    },
    "id": "eLusTa6A8VII",
    "outputId": "8927c52d-92de-4b6b-e275-881ac77cdc62"
   },
   "outputs": [
    {
     "name": "stderr",
     "output_type": "stream",
     "text": [
      "/var/folders/hj/bjtkr_b13175_g6c53_yly7c0000gn/T/ipykernel_73348/982235902.py:11: DtypeWarning: Columns (5) have mixed types. Specify dtype option on import or set low_memory=False.\n",
      "  for chunk in pd.read_csv(file_path+'train.csv', chunksize=chunk_size):\n"
     ]
    }
   ],
   "source": [
    "# Select list of stores located in the 'Pichincha' region\n",
    "store_ids = df_stores[df_stores['state'] == 'Guayas']['store_nbr'].unique()\n",
    "\n",
    "# Initialize an empty list to hold filtered chunks\n",
    "filtered_chunks = []\n",
    "\n",
    "# Define the chunk size (number of rows per chunk)\n",
    "chunk_size = 10 ** 6  # Adjust based on your system's memory capacity\n",
    "\n",
    "# Read the CSV file in chunks\n",
    "for chunk in pd.read_csv(file_path+'train.csv', chunksize=chunk_size):\n",
    "    #print(chunk)\n",
    "    # Filter the chunk for the desired store IDs\n",
    "    chunk_filtered = chunk[chunk['store_nbr'].isin(store_ids)]\n",
    "    # Append the filtered chunk to the list\n",
    "    filtered_chunks.append(chunk_filtered)\n",
    "    # Optional: Delete the chunk to free up memory\n",
    "    del chunk\n",
    "\n",
    "# Concatenate all filtered chunks into a single DataFrame\n",
    "df_train = pd.concat(filtered_chunks, ignore_index=True)\n",
    "\n",
    "# Clean up to free memory\n",
    "del filtered_chunks\n"
   ]
  },
  {
   "cell_type": "code",
   "execution_count": 11,
   "metadata": {
    "colab": {
     "base_uri": "https://localhost:8080/",
     "height": 224
    },
    "executionInfo": {
     "elapsed": 12,
     "status": "ok",
     "timestamp": 1745843808904,
     "user": {
      "displayName": "Thofa Tazkia",
      "userId": "05683292458392942822"
     },
     "user_tz": -120
    },
    "id": "z8uzo9e0AjyT",
    "outputId": "ec7ca4bc-f082-4ace-92d7-a1c5511ec6f9"
   },
   "outputs": [
    {
     "name": "stdout",
     "output_type": "stream",
     "text": [
      "df_train shape (22941656, 6)\n"
     ]
    },
    {
     "data": {
      "text/html": [
       "<div>\n",
       "<style scoped>\n",
       "    .dataframe tbody tr th:only-of-type {\n",
       "        vertical-align: middle;\n",
       "    }\n",
       "\n",
       "    .dataframe tbody tr th {\n",
       "        vertical-align: top;\n",
       "    }\n",
       "\n",
       "    .dataframe thead th {\n",
       "        text-align: right;\n",
       "    }\n",
       "</style>\n",
       "<table border=\"1\" class=\"dataframe\">\n",
       "  <thead>\n",
       "    <tr style=\"text-align: right;\">\n",
       "      <th></th>\n",
       "      <th>id</th>\n",
       "      <th>date</th>\n",
       "      <th>store_nbr</th>\n",
       "      <th>item_nbr</th>\n",
       "      <th>unit_sales</th>\n",
       "      <th>onpromotion</th>\n",
       "    </tr>\n",
       "  </thead>\n",
       "  <tbody>\n",
       "    <tr>\n",
       "      <th>0</th>\n",
       "      <td>18789</td>\n",
       "      <td>2013-01-02</td>\n",
       "      <td>24</td>\n",
       "      <td>103665</td>\n",
       "      <td>6.0</td>\n",
       "      <td>NaN</td>\n",
       "    </tr>\n",
       "    <tr>\n",
       "      <th>1</th>\n",
       "      <td>18790</td>\n",
       "      <td>2013-01-02</td>\n",
       "      <td>24</td>\n",
       "      <td>105574</td>\n",
       "      <td>12.0</td>\n",
       "      <td>NaN</td>\n",
       "    </tr>\n",
       "    <tr>\n",
       "      <th>2</th>\n",
       "      <td>18791</td>\n",
       "      <td>2013-01-02</td>\n",
       "      <td>24</td>\n",
       "      <td>105575</td>\n",
       "      <td>2.0</td>\n",
       "      <td>NaN</td>\n",
       "    </tr>\n",
       "    <tr>\n",
       "      <th>3</th>\n",
       "      <td>18792</td>\n",
       "      <td>2013-01-02</td>\n",
       "      <td>24</td>\n",
       "      <td>105577</td>\n",
       "      <td>1.0</td>\n",
       "      <td>NaN</td>\n",
       "    </tr>\n",
       "    <tr>\n",
       "      <th>4</th>\n",
       "      <td>18793</td>\n",
       "      <td>2013-01-02</td>\n",
       "      <td>24</td>\n",
       "      <td>105693</td>\n",
       "      <td>7.0</td>\n",
       "      <td>NaN</td>\n",
       "    </tr>\n",
       "    <tr>\n",
       "      <th>...</th>\n",
       "      <td>...</td>\n",
       "      <td>...</td>\n",
       "      <td>...</td>\n",
       "      <td>...</td>\n",
       "      <td>...</td>\n",
       "      <td>...</td>\n",
       "    </tr>\n",
       "    <tr>\n",
       "      <th>22941651</th>\n",
       "      <td>125491520</td>\n",
       "      <td>2017-08-15</td>\n",
       "      <td>51</td>\n",
       "      <td>2123727</td>\n",
       "      <td>2.0</td>\n",
       "      <td>False</td>\n",
       "    </tr>\n",
       "    <tr>\n",
       "      <th>22941652</th>\n",
       "      <td>125491521</td>\n",
       "      <td>2017-08-15</td>\n",
       "      <td>51</td>\n",
       "      <td>2123750</td>\n",
       "      <td>3.0</td>\n",
       "      <td>False</td>\n",
       "    </tr>\n",
       "    <tr>\n",
       "      <th>22941653</th>\n",
       "      <td>125491522</td>\n",
       "      <td>2017-08-15</td>\n",
       "      <td>51</td>\n",
       "      <td>2123775</td>\n",
       "      <td>1.0</td>\n",
       "      <td>False</td>\n",
       "    </tr>\n",
       "    <tr>\n",
       "      <th>22941654</th>\n",
       "      <td>125491523</td>\n",
       "      <td>2017-08-15</td>\n",
       "      <td>51</td>\n",
       "      <td>2123791</td>\n",
       "      <td>1.0</td>\n",
       "      <td>False</td>\n",
       "    </tr>\n",
       "    <tr>\n",
       "      <th>22941655</th>\n",
       "      <td>125491524</td>\n",
       "      <td>2017-08-15</td>\n",
       "      <td>51</td>\n",
       "      <td>2124052</td>\n",
       "      <td>4.0</td>\n",
       "      <td>True</td>\n",
       "    </tr>\n",
       "  </tbody>\n",
       "</table>\n",
       "<p>22941656 rows × 6 columns</p>\n",
       "</div>"
      ],
      "text/plain": [
       "                 id        date  store_nbr  item_nbr  unit_sales onpromotion\n",
       "0             18789  2013-01-02         24    103665         6.0         NaN\n",
       "1             18790  2013-01-02         24    105574        12.0         NaN\n",
       "2             18791  2013-01-02         24    105575         2.0         NaN\n",
       "3             18792  2013-01-02         24    105577         1.0         NaN\n",
       "4             18793  2013-01-02         24    105693         7.0         NaN\n",
       "...             ...         ...        ...       ...         ...         ...\n",
       "22941651  125491520  2017-08-15         51   2123727         2.0       False\n",
       "22941652  125491521  2017-08-15         51   2123750         3.0       False\n",
       "22941653  125491522  2017-08-15         51   2123775         1.0       False\n",
       "22941654  125491523  2017-08-15         51   2123791         1.0       False\n",
       "22941655  125491524  2017-08-15         51   2124052         4.0        True\n",
       "\n",
       "[22941656 rows x 6 columns]"
      ]
     },
     "execution_count": 11,
     "metadata": {},
     "output_type": "execute_result"
    }
   ],
   "source": [
    "print('df_train shape',df_train.shape)\n",
    "df_train"
   ]
  },
  {
   "cell_type": "code",
   "execution_count": 12,
   "metadata": {
    "colab": {
     "base_uri": "https://localhost:8080/"
    },
    "executionInfo": {
     "elapsed": 16755,
     "status": "ok",
     "timestamp": 1745853049502,
     "user": {
      "displayName": "Thofa Tazkia",
      "userId": "05683292458392942822"
     },
     "user_tz": -120
    },
    "id": "_i2UiZIsBJZt",
    "outputId": "6058573d-dde8-4f9c-9f4c-da79e857dc99"
   },
   "outputs": [
    {
     "name": "stdout",
     "output_type": "stream",
     "text": [
      "<class 'pandas.core.frame.DataFrame'>\n",
      "RangeIndex: 22941656 entries, 0 to 22941655\n",
      "Data columns (total 6 columns):\n",
      " #   Column       Dtype  \n",
      "---  ------       -----  \n",
      " 0   id           int64  \n",
      " 1   date         object \n",
      " 2   store_nbr    int64  \n",
      " 3   item_nbr     int64  \n",
      " 4   unit_sales   float64\n",
      " 5   onpromotion  object \n",
      "dtypes: float64(1), int64(3), object(2)\n",
      "memory usage: 1.0+ GB\n",
      "None\n",
      "value_counts\n",
      " id             22941656\n",
      "date               1680\n",
      "store_nbr            11\n",
      "item_nbr           4008\n",
      "unit_sales       109203\n",
      "onpromotion           2\n",
      "dtype: int64\n",
      "null value\n",
      " id                   0\n",
      "date                 0\n",
      "store_nbr            0\n",
      "item_nbr             0\n",
      "unit_sales           0\n",
      "onpromotion    3980341\n",
      "dtype: int64\n",
      "unique value\n",
      " id             22941656\n",
      "date               1680\n",
      "store_nbr            11\n",
      "item_nbr           4008\n",
      "unit_sales       109203\n",
      "onpromotion           2\n",
      "dtype: int64\n",
      "[nan False True]\n"
     ]
    }
   ],
   "source": [
    "print( df_train.info())\n",
    "print('value_counts\\n', df_train.nunique())\n",
    "print('null value\\n',df_train.isnull().sum())\n",
    "print('unique value\\n',df_train.nunique())\n",
    "print(df_train['onpromotion'].unique())"
   ]
  },
  {
   "cell_type": "code",
   "execution_count": 13,
   "metadata": {
    "executionInfo": {
     "elapsed": 10,
     "status": "ok",
     "timestamp": 1745853109366,
     "user": {
      "displayName": "Thofa Tazkia",
      "userId": "05683292458392942822"
     },
     "user_tz": -120
    },
    "id": "c0F-FWw789eH"
   },
   "outputs": [],
   "source": [
    "# Plotting the number of items per family (for top 3 families only)\n",
    "# Compute the number of items per family and select the top 3 families\n",
    "items_per_family = df_items['family'].value_counts().reset_index()\n",
    "items_per_family.columns = ['Family', 'Item Count']\n",
    "top_3_families = items_per_family.head(3)  # Keep only the top 3 families"
   ]
  },
  {
   "cell_type": "markdown",
   "metadata": {
    "id": "qVlkuSz12t9S"
   },
   "source": [
    "The dataset that we have is still very big even after filtering. To prevent our work from unexpected crashes, let's limit the dataset to include only top-3 families by number of items but first let's look at this top-3:"
   ]
  },
  {
   "cell_type": "code",
   "execution_count": 14,
   "metadata": {
    "colab": {
     "base_uri": "https://localhost:8080/",
     "height": 506
    },
    "executionInfo": {
     "elapsed": 266,
     "status": "ok",
     "timestamp": 1745843825596,
     "user": {
      "displayName": "Thofa Tazkia",
      "userId": "05683292458392942822"
     },
     "user_tz": -120
    },
    "id": "j3PIfn902v0r",
    "outputId": "2563d70e-2634-4558-dc2e-dae87a2584bd"
   },
   "outputs": [
    {
     "data": {
      "image/png": "[encoded data removed]",
      "text/plain": [
       "<Figure size 800x500 with 1 Axes>"
      ]
     },
     "metadata": {},
     "output_type": "display_data"
    }
   ],
   "source": [
    "# Plot the top 3 families\n",
    "plt.figure(figsize=(8, 5))\n",
    "plt.bar(top_3_families['Family'], top_3_families['Item Count'], color='skyblue', edgecolor='black')\n",
    "plt.title(\"Top 3 Families by Number of Items\", fontsize=20, fontweight='bold')\n",
    "plt.xlabel(\"Family\", fontsize=16)\n",
    "plt.ylabel(\"Number of Items\", fontsize=16)\n",
    "plt.xticks(fontsize=14, rotation=45)\n",
    "plt.yticks(fontsize=14)\n",
    "plt.tight_layout()\n",
    "# Display the plot\n",
    "plt.show()"
   ]
  },
  {
   "cell_type": "code",
   "execution_count": 15,
   "metadata": {
    "colab": {
     "base_uri": "https://localhost:8080/"
    },
    "executionInfo": {
     "elapsed": 900,
     "status": "ok",
     "timestamp": 1745853129305,
     "user": {
      "displayName": "Thofa Tazkia",
      "userId": "05683292458392942822"
     },
     "user_tz": -120
    },
    "id": "a3bisWe74JZS",
    "outputId": "339f9153-a4c3-4466-8b9f-f49ac28de9ff"
   },
   "outputs": [
    {
     "data": {
      "text/plain": [
       "(14745768, 6)"
      ]
     },
     "execution_count": 15,
     "metadata": {},
     "output_type": "execute_result"
    }
   ],
   "source": [
    "# Now we filter our train data based on top 3 family items count\n",
    "item_ids = df_items[df_items['family'].isin(top_3_families['Family'].unique())]['item_nbr'].unique()\n",
    "df_train = df_train[df_train['item_nbr'].isin(item_ids)]\n",
    "df_train.shape # shape reduced from (22941656, 6) to (14745768, 6)"
   ]
  },
  {
   "cell_type": "markdown",
   "metadata": {
    "id": "_LnWjlKw5491"
   },
   "source": [
    "1. Check for missing values\n",
    "2. Check for outliers\n",
    "   1. Handle negative sales\n",
    "3. Zero sales - include in data frame\n",
    "4. Feature Engineering\n",
    "   1. Time-based features\n",
    "   2. Rolling / Expanding window\n",
    "5. EDA\n",
    "   1. Visual EDA\n",
    "   2. Analyse monthly sales\n",
    "   3. Analyse holiday impact on sales\n",
    "   4. and more"
   ]
  },
  {
   "cell_type": "markdown",
   "metadata": {
    "id": "XCV5-O9D6TXG"
   },
   "source": [
    "# **Preprocessing**"
   ]
  },
  {
   "cell_type": "markdown",
   "metadata": {
    "id": "2NDQPZffLBYV"
   },
   "source": [
    "## **1. Dealing with missing values**"
   ]
  },
  {
   "cell_type": "code",
   "execution_count": 16,
   "metadata": {
    "colab": {
     "base_uri": "https://localhost:8080/",
     "height": 272
    },
    "executionInfo": {
     "elapsed": 1235,
     "status": "ok",
     "timestamp": 1745843827681,
     "user": {
      "displayName": "Thofa Tazkia",
      "userId": "05683292458392942822"
     },
     "user_tz": -120
    },
    "id": "BJXl8zBw7uwW",
    "outputId": "3d8a0bcd-8df7-47b8-9699-237dc1649271"
   },
   "outputs": [
    {
     "data": {
      "text/plain": [
       "id                   0\n",
       "date                 0\n",
       "store_nbr            0\n",
       "item_nbr             0\n",
       "unit_sales           0\n",
       "onpromotion    2747275\n",
       "dtype: int64"
      ]
     },
     "execution_count": 16,
     "metadata": {},
     "output_type": "execute_result"
    }
   ],
   "source": [
    "# Checking missing values in train\n",
    "df_train.isnull().sum()"
   ]
  },
  {
   "cell_type": "code",
   "execution_count": 17,
   "metadata": {
    "colab": {
     "base_uri": "https://localhost:8080/"
    },
    "executionInfo": {
     "elapsed": 655,
     "status": "ok",
     "timestamp": 1745853143239,
     "user": {
      "displayName": "Thofa Tazkia",
      "userId": "05683292458392942822"
     },
     "user_tz": -120
    },
    "id": "csFhA2lC79R7",
    "outputId": "0b4b9aa1-2e19-4f71-9e11-1f3c3eae2d25"
   },
   "outputs": [
    {
     "name": "stderr",
     "output_type": "stream",
     "text": [
      "/var/folders/hj/bjtkr_b13175_g6c53_yly7c0000gn/T/ipykernel_73348/4261340736.py:2: FutureWarning: Downcasting object dtype arrays on .fillna, .ffill, .bfill is deprecated and will change in a future version. Call result.infer_objects(copy=False) instead. To opt-in to the future behavior, set `pd.set_option('future.no_silent_downcasting', True)`\n",
      "  df_train['onpromotion'] = df_train['onpromotion'].fillna(False).astype(bool)\n",
      "/var/folders/hj/bjtkr_b13175_g6c53_yly7c0000gn/T/ipykernel_73348/4261340736.py:2: SettingWithCopyWarning: \n",
      "A value is trying to be set on a copy of a slice from a DataFrame.\n",
      "Try using .loc[row_indexer,col_indexer] = value instead\n",
      "\n",
      "See the caveats in the documentation: https://pandas.pydata.org/pandas-docs/stable/user_guide/indexing.html#returning-a-view-versus-a-copy\n",
      "  df_train['onpromotion'] = df_train['onpromotion'].fillna(False).astype(bool)\n",
      "/var/folders/hj/bjtkr_b13175_g6c53_yly7c0000gn/T/ipykernel_73348/4261340736.py:3: SettingWithCopyWarning: \n",
      "A value is trying to be set on a copy of a slice from a DataFrame.\n",
      "Try using .loc[row_indexer,col_indexer] = value instead\n",
      "\n",
      "See the caveats in the documentation: https://pandas.pydata.org/pandas-docs/stable/user_guide/indexing.html#returning-a-view-versus-a-copy\n",
      "  df_train['onpromotion'] = df_train['onpromotion'].astype(int)\n"
     ]
    }
   ],
   "source": [
    "# Focusing on missing values in the 'onpromotion' column in train\n",
    "df_train['onpromotion'] = df_train['onpromotion'].fillna(False).astype(bool)\n",
    "df_train['onpromotion'] = df_train['onpromotion'].astype(int)\n"
   ]
  },
  {
   "cell_type": "code",
   "execution_count": 18,
   "metadata": {
    "colab": {
     "base_uri": "https://localhost:8080/",
     "height": 178
    },
    "executionInfo": {
     "elapsed": 131,
     "status": "ok",
     "timestamp": 1745843829200,
     "user": {
      "displayName": "Thofa Tazkia",
      "userId": "05683292458392942822"
     },
     "user_tz": -120
    },
    "id": "pXqgzcH88OpD",
    "outputId": "f55ae288-fb9b-4dc4-8a2e-2a0687c8df66"
   },
   "outputs": [
    {
     "data": {
      "text/plain": [
       "onpromotion\n",
       "0    14066471\n",
       "1      679297\n",
       "Name: count, dtype: int64"
      ]
     },
     "execution_count": 18,
     "metadata": {},
     "output_type": "execute_result"
    }
   ],
   "source": [
    "df_train['onpromotion'].value_counts()"
   ]
  },
  {
   "cell_type": "code",
   "execution_count": 19,
   "metadata": {},
   "outputs": [
    {
     "data": {
      "text/html": [
       "<div>\n",
       "<style scoped>\n",
       "    .dataframe tbody tr th:only-of-type {\n",
       "        vertical-align: middle;\n",
       "    }\n",
       "\n",
       "    .dataframe tbody tr th {\n",
       "        vertical-align: top;\n",
       "    }\n",
       "\n",
       "    .dataframe thead th {\n",
       "        text-align: right;\n",
       "    }\n",
       "</style>\n",
       "<table border=\"1\" class=\"dataframe\">\n",
       "  <thead>\n",
       "    <tr style=\"text-align: right;\">\n",
       "      <th></th>\n",
       "      <th>id</th>\n",
       "      <th>date</th>\n",
       "      <th>store_nbr</th>\n",
       "      <th>item_nbr</th>\n",
       "      <th>unit_sales</th>\n",
       "      <th>onpromotion</th>\n",
       "    </tr>\n",
       "  </thead>\n",
       "  <tbody>\n",
       "    <tr>\n",
       "      <th>1</th>\n",
       "      <td>18790</td>\n",
       "      <td>2013-01-02</td>\n",
       "      <td>24</td>\n",
       "      <td>105574</td>\n",
       "      <td>12.0</td>\n",
       "      <td>0</td>\n",
       "    </tr>\n",
       "    <tr>\n",
       "      <th>2</th>\n",
       "      <td>18791</td>\n",
       "      <td>2013-01-02</td>\n",
       "      <td>24</td>\n",
       "      <td>105575</td>\n",
       "      <td>2.0</td>\n",
       "      <td>0</td>\n",
       "    </tr>\n",
       "    <tr>\n",
       "      <th>3</th>\n",
       "      <td>18792</td>\n",
       "      <td>2013-01-02</td>\n",
       "      <td>24</td>\n",
       "      <td>105577</td>\n",
       "      <td>1.0</td>\n",
       "      <td>0</td>\n",
       "    </tr>\n",
       "    <tr>\n",
       "      <th>4</th>\n",
       "      <td>18793</td>\n",
       "      <td>2013-01-02</td>\n",
       "      <td>24</td>\n",
       "      <td>105693</td>\n",
       "      <td>7.0</td>\n",
       "      <td>0</td>\n",
       "    </tr>\n",
       "    <tr>\n",
       "      <th>5</th>\n",
       "      <td>18794</td>\n",
       "      <td>2013-01-02</td>\n",
       "      <td>24</td>\n",
       "      <td>105737</td>\n",
       "      <td>17.0</td>\n",
       "      <td>0</td>\n",
       "    </tr>\n",
       "    <tr>\n",
       "      <th>...</th>\n",
       "      <td>...</td>\n",
       "      <td>...</td>\n",
       "      <td>...</td>\n",
       "      <td>...</td>\n",
       "      <td>...</td>\n",
       "      <td>...</td>\n",
       "    </tr>\n",
       "    <tr>\n",
       "      <th>22941650</th>\n",
       "      <td>125491519</td>\n",
       "      <td>2017-08-15</td>\n",
       "      <td>51</td>\n",
       "      <td>2122188</td>\n",
       "      <td>1.0</td>\n",
       "      <td>0</td>\n",
       "    </tr>\n",
       "    <tr>\n",
       "      <th>22941651</th>\n",
       "      <td>125491520</td>\n",
       "      <td>2017-08-15</td>\n",
       "      <td>51</td>\n",
       "      <td>2123727</td>\n",
       "      <td>2.0</td>\n",
       "      <td>0</td>\n",
       "    </tr>\n",
       "    <tr>\n",
       "      <th>22941652</th>\n",
       "      <td>125491521</td>\n",
       "      <td>2017-08-15</td>\n",
       "      <td>51</td>\n",
       "      <td>2123750</td>\n",
       "      <td>3.0</td>\n",
       "      <td>0</td>\n",
       "    </tr>\n",
       "    <tr>\n",
       "      <th>22941653</th>\n",
       "      <td>125491522</td>\n",
       "      <td>2017-08-15</td>\n",
       "      <td>51</td>\n",
       "      <td>2123775</td>\n",
       "      <td>1.0</td>\n",
       "      <td>0</td>\n",
       "    </tr>\n",
       "    <tr>\n",
       "      <th>22941654</th>\n",
       "      <td>125491523</td>\n",
       "      <td>2017-08-15</td>\n",
       "      <td>51</td>\n",
       "      <td>2123791</td>\n",
       "      <td>1.0</td>\n",
       "      <td>0</td>\n",
       "    </tr>\n",
       "  </tbody>\n",
       "</table>\n",
       "<p>14745768 rows × 6 columns</p>\n",
       "</div>"
      ],
      "text/plain": [
       "                 id        date  store_nbr  item_nbr  unit_sales  onpromotion\n",
       "1             18790  2013-01-02         24    105574        12.0            0\n",
       "2             18791  2013-01-02         24    105575         2.0            0\n",
       "3             18792  2013-01-02         24    105577         1.0            0\n",
       "4             18793  2013-01-02         24    105693         7.0            0\n",
       "5             18794  2013-01-02         24    105737        17.0            0\n",
       "...             ...         ...        ...       ...         ...          ...\n",
       "22941650  125491519  2017-08-15         51   2122188         1.0            0\n",
       "22941651  125491520  2017-08-15         51   2123727         2.0            0\n",
       "22941652  125491521  2017-08-15         51   2123750         3.0            0\n",
       "22941653  125491522  2017-08-15         51   2123775         1.0            0\n",
       "22941654  125491523  2017-08-15         51   2123791         1.0            0\n",
       "\n",
       "[14745768 rows x 6 columns]"
      ]
     },
     "execution_count": 19,
     "metadata": {},
     "output_type": "execute_result"
    }
   ],
   "source": [
    "df_train"
   ]
  },
  {
   "cell_type": "code",
   "execution_count": 20,
   "metadata": {
    "colab": {
     "base_uri": "https://localhost:8080/",
     "height": 564
    },
    "executionInfo": {
     "elapsed": 249,
     "status": "ok",
     "timestamp": 1745843829461,
     "user": {
      "displayName": "Thofa Tazkia",
      "userId": "05683292458392942822"
     },
     "user_tz": -120
    },
    "id": "qqXTa-Ua23_o",
    "outputId": "dde8baa0-4e39-42f5-98a1-1a3b9de3717d"
   },
   "outputs": [
    {
     "data": {
      "text/plain": [
       "date          0\n",
       "dcoilwtico    0\n",
       "dtype: int64"
      ]
     },
     "execution_count": 20,
     "metadata": {},
     "output_type": "execute_result"
    }
   ],
   "source": [
    "# Filling null value using linear interpolation  method for oil price in oil dataset\n",
    "df_oil['dcoilwtico'] = df_oil['dcoilwtico'].interpolate(method='linear', limit_direction='both')\n",
    "df_oil.isnull().sum()\n"
   ]
  },
  {
   "cell_type": "code",
   "execution_count": 21,
   "metadata": {
    "colab": {
     "base_uri": "https://localhost:8080/",
     "height": 564
    },
    "executionInfo": {
     "elapsed": 249,
     "status": "ok",
     "timestamp": 1745843829461,
     "user": {
      "displayName": "Thofa Tazkia",
      "userId": "05683292458392942822"
     },
     "user_tz": -120
    },
    "id": "qqXTa-Ua23_o",
    "outputId": "dde8baa0-4e39-42f5-98a1-1a3b9de3717d"
   },
   "outputs": [
    {
     "data": {
      "image/png": "[encoded data removed]",
      "text/plain": [
       "<Figure size 1000x600 with 1 Axes>"
      ]
     },
     "metadata": {},
     "output_type": "display_data"
    }
   ],
   "source": [
    "# prompt: plot date vs dcoilwtico from oil dataset\n",
    "\n",
    "import pandas as pd\n",
    "import matplotlib.pyplot as plt\n",
    "# Convert the 'date' column to datetime objects\n",
    "df_oil['date'] = pd.to_datetime(df_oil['date'])\n",
    "\n",
    "# Create the plot\n",
    "plt.figure(figsize=(10, 6))\n",
    "plt.plot(df_oil['date'], df_oil['dcoilwtico'])\n",
    "plt.xlabel('Date')\n",
    "plt.ylabel('dcoilwtico')\n",
    "plt.title('Date vs. dcoilwtico after linear interpolation')\n",
    "plt.grid(True)\n",
    "plt.show()\n"
   ]
  },
  {
   "cell_type": "markdown",
   "metadata": {
    "colab": {
     "base_uri": "https://localhost:8080/",
     "height": 224
    },
    "executionInfo": {
     "elapsed": 22,
     "status": "ok",
     "timestamp": 1745843829482,
     "user": {
      "displayName": "Thofa Tazkia",
      "userId": "05683292458392942822"
     },
     "user_tz": -120
    },
    "id": "gJhSHkwE8uRg",
    "outputId": "ed0e0865-3cb2-4afa-e9a7-7b587e8b0c71"
   },
   "source": [
    "## **2. Checking Negative Sales**"
   ]
  },
  {
   "cell_type": "code",
   "execution_count": 22,
   "metadata": {
    "executionInfo": {
     "elapsed": 2978,
     "status": "ok",
     "timestamp": 1745853215743,
     "user": {
      "displayName": "Thofa Tazkia",
      "userId": "05683292458392942822"
     },
     "user_tz": -120
    },
    "id": "8nSFL9cT9EgW"
   },
   "outputs": [
    {
     "name": "stdout",
     "output_type": "stream",
     "text": [
      "The number of negative sales is 794\n"
     ]
    },
    {
     "data": {
      "text/html": [
       "<div>\n",
       "<style scoped>\n",
       "    .dataframe tbody tr th:only-of-type {\n",
       "        vertical-align: middle;\n",
       "    }\n",
       "\n",
       "    .dataframe tbody tr th {\n",
       "        vertical-align: top;\n",
       "    }\n",
       "\n",
       "    .dataframe thead th {\n",
       "        text-align: right;\n",
       "    }\n",
       "</style>\n",
       "<table border=\"1\" class=\"dataframe\">\n",
       "  <thead>\n",
       "    <tr style=\"text-align: right;\">\n",
       "      <th></th>\n",
       "      <th>id</th>\n",
       "      <th>date</th>\n",
       "      <th>store_nbr</th>\n",
       "      <th>item_nbr</th>\n",
       "      <th>unit_sales</th>\n",
       "      <th>onpromotion</th>\n",
       "    </tr>\n",
       "  </thead>\n",
       "  <tbody>\n",
       "    <tr>\n",
       "      <th>18589</th>\n",
       "      <td>106658</td>\n",
       "      <td>2013-01-04</td>\n",
       "      <td>34</td>\n",
       "      <td>586824</td>\n",
       "      <td>-2.0</td>\n",
       "      <td>0</td>\n",
       "    </tr>\n",
       "    <tr>\n",
       "      <th>54236</th>\n",
       "      <td>309805</td>\n",
       "      <td>2013-01-09</td>\n",
       "      <td>35</td>\n",
       "      <td>1079215</td>\n",
       "      <td>-8.0</td>\n",
       "      <td>0</td>\n",
       "    </tr>\n",
       "    <tr>\n",
       "      <th>64452</th>\n",
       "      <td>382905</td>\n",
       "      <td>2013-01-11</td>\n",
       "      <td>27</td>\n",
       "      <td>1097187</td>\n",
       "      <td>-20.0</td>\n",
       "      <td>0</td>\n",
       "    </tr>\n",
       "    <tr>\n",
       "      <th>96414</th>\n",
       "      <td>564108</td>\n",
       "      <td>2013-01-15</td>\n",
       "      <td>51</td>\n",
       "      <td>627885</td>\n",
       "      <td>-36.0</td>\n",
       "      <td>0</td>\n",
       "    </tr>\n",
       "    <tr>\n",
       "      <th>132903</th>\n",
       "      <td>787522</td>\n",
       "      <td>2013-01-21</td>\n",
       "      <td>24</td>\n",
       "      <td>211205</td>\n",
       "      <td>-5.0</td>\n",
       "      <td>0</td>\n",
       "    </tr>\n",
       "  </tbody>\n",
       "</table>\n",
       "</div>"
      ],
      "text/plain": [
       "            id        date  store_nbr  item_nbr  unit_sales  onpromotion\n",
       "18589   106658  2013-01-04         34    586824        -2.0            0\n",
       "54236   309805  2013-01-09         35   1079215        -8.0            0\n",
       "64452   382905  2013-01-11         27   1097187       -20.0            0\n",
       "96414   564108  2013-01-15         51    627885       -36.0            0\n",
       "132903  787522  2013-01-21         24    211205        -5.0            0"
      ]
     },
     "execution_count": 22,
     "metadata": {},
     "output_type": "execute_result"
    }
   ],
   "source": [
    "# Checking for negative sales (returns to store)\n",
    "negative_sales = df_train[df_train['unit_sales'] < 0]\n",
    "print('The number of negative sales is',len(negative_sales))\n",
    "\n",
    "negative_sales.head()  # Viewing negative sales for analysis"
   ]
  },
  {
   "cell_type": "code",
   "execution_count": 23,
   "metadata": {
    "executionInfo": {
     "elapsed": 2978,
     "status": "ok",
     "timestamp": 1745853215743,
     "user": {
      "displayName": "Thofa Tazkia",
      "userId": "05683292458392942822"
     },
     "user_tz": -120
    },
    "id": "8nSFL9cT9EgW"
   },
   "outputs": [
    {
     "name": "stderr",
     "output_type": "stream",
     "text": [
      "/var/folders/hj/bjtkr_b13175_g6c53_yly7c0000gn/T/ipykernel_73348/2651562614.py:2: SettingWithCopyWarning: \n",
      "A value is trying to be set on a copy of a slice from a DataFrame.\n",
      "Try using .loc[row_indexer,col_indexer] = value instead\n",
      "\n",
      "See the caveats in the documentation: https://pandas.pydata.org/pandas-docs/stable/user_guide/indexing.html#returning-a-view-versus-a-copy\n",
      "  df_train['unit_sales'] = df_train['unit_sales'].apply(lambda x: 0 if x < 0 else x)\n"
     ]
    },
    {
     "data": {
      "text/html": [
       "<div>\n",
       "<style scoped>\n",
       "    .dataframe tbody tr th:only-of-type {\n",
       "        vertical-align: middle;\n",
       "    }\n",
       "\n",
       "    .dataframe tbody tr th {\n",
       "        vertical-align: top;\n",
       "    }\n",
       "\n",
       "    .dataframe thead th {\n",
       "        text-align: right;\n",
       "    }\n",
       "</style>\n",
       "<table border=\"1\" class=\"dataframe\">\n",
       "  <thead>\n",
       "    <tr style=\"text-align: right;\">\n",
       "      <th></th>\n",
       "      <th>id</th>\n",
       "      <th>date</th>\n",
       "      <th>store_nbr</th>\n",
       "      <th>item_nbr</th>\n",
       "      <th>unit_sales</th>\n",
       "      <th>onpromotion</th>\n",
       "    </tr>\n",
       "  </thead>\n",
       "  <tbody>\n",
       "  </tbody>\n",
       "</table>\n",
       "</div>"
      ],
      "text/plain": [
       "Empty DataFrame\n",
       "Columns: [id, date, store_nbr, item_nbr, unit_sales, onpromotion]\n",
       "Index: []"
      ]
     },
     "execution_count": 23,
     "metadata": {},
     "output_type": "execute_result"
    }
   ],
   "source": [
    "# Replace negative 'unit_sales' values with 0\n",
    "df_train['unit_sales'] = df_train['unit_sales'].apply(lambda x: 0 if x < 0 else x)\n",
    "df_train[df_train['unit_sales'] < 0]\n"
   ]
  },
  {
   "cell_type": "markdown",
   "metadata": {
    "colab": {
     "base_uri": "https://localhost:8080/",
     "height": 272
    },
    "executionInfo": {
     "elapsed": 647,
     "status": "ok",
     "timestamp": 1745843834369,
     "user": {
      "displayName": "Thofa Tazkia",
      "userId": "05683292458392942822"
     },
     "user_tz": -120
    },
    "id": "wYxRUCbT-Em8",
    "outputId": "57374694-73cc-4705-c211-6fc0f33847c6"
   },
   "source": [
    "## **3. Outlier Analysis**"
   ]
  },
  {
   "cell_type": "code",
   "execution_count": 24,
   "metadata": {
    "executionInfo": {
     "elapsed": 14,
     "status": "ok",
     "timestamp": 1745853268096,
     "user": {
      "displayName": "Thofa Tazkia",
      "userId": "05683292458392942822"
     },
     "user_tz": -120
    },
    "id": "uCwXKZx8J8RU"
   },
   "outputs": [
    {
     "data": {
      "text/plain": [
       "store_nbr  item_nbr\n",
       "24         96995        1.918552\n",
       "           99197        2.138462\n",
       "           103520       4.683254\n",
       "           105574      11.045609\n",
       "           105575       8.413910\n",
       "                         ...    \n",
       "51         2123727      1.500000\n",
       "           2123750      3.000000\n",
       "           2123775      1.000000\n",
       "           2123791      1.000000\n",
       "           2127114      5.625000\n",
       "Name: unit_sales, Length: 20788, dtype: float64"
      ]
     },
     "execution_count": 24,
     "metadata": {},
     "output_type": "execute_result"
    }
   ],
   "source": [
    "# prompt: group by store_nbr and item_nbr in train dataset\n",
    "\n",
    "# Group by 'store_nbr' and 'item_nbr'\n",
    "grouped_train = df_train.groupby(['store_nbr', 'item_nbr'])\n",
    "\n",
    "# Example: Calculate the sum of 'unit_sales' for each group\n",
    "sales_mean = grouped_train['unit_sales'].mean()\n",
    "sales_mean\n",
    "\n"
   ]
  },
  {
   "cell_type": "code",
   "execution_count": 25,
   "metadata": {
    "colab": {
     "base_uri": "https://localhost:8080/",
     "height": 261
    },
    "executionInfo": {
     "elapsed": 30073,
     "status": "ok",
     "timestamp": 1745853312405,
     "user": {
      "displayName": "Thofa Tazkia",
      "userId": "05683292458392942822"
     },
     "user_tz": -120
    },
    "id": "7yqfCw7_MXyf",
    "outputId": "b8ca8aec-fbbe-4a8c-b404-84ea2d8862f8"
   },
   "outputs": [],
   "source": [
    "# Function to calculate Z-score for each group (store-item combination)\n",
    "def calculate_zscore_store_item(group):\n",
    "    mean_sales = group['unit_sales'].mean()\n",
    "    std_sales = group['unit_sales'].std()\n",
    "    # Calculate Z-score (avoiding division by zero for standard deviation)\n",
    "\n",
    "    group['z_scores'] = (group['unit_sales'] - mean_sales) / (std_sales if std_sales !=0 else 1)\n",
    "    return group"
   ]
  },
  {
   "cell_type": "code",
   "execution_count": 26,
   "metadata": {
    "executionInfo": {
     "elapsed": 5548,
     "status": "ok",
     "timestamp": 1745854457515,
     "user": {
      "displayName": "Thofa Tazkia",
      "userId": "05683292458392942822"
     },
     "user_tz": -120
    },
    "id": "LHjgeFmiB2mT"
   },
   "outputs": [
    {
     "name": "stderr",
     "output_type": "stream",
     "text": [
      "/var/folders/hj/bjtkr_b13175_g6c53_yly7c0000gn/T/ipykernel_73348/1654086059.py:1: DeprecationWarning: DataFrameGroupBy.apply operated on the grouping columns. This behavior is deprecated, and in a future version of pandas the grouping columns will be excluded from the operation. Either pass `include_groups=False` to exclude the groupings or explicitly select the grouping columns after groupby to silence this warning.\n",
      "  df_train_grouped = df_train.groupby(['store_nbr', 'item_nbr']).apply(calculate_zscore_store_item)\n"
     ]
    },
    {
     "data": {
      "text/html": [
       "<div>\n",
       "<style scoped>\n",
       "    .dataframe tbody tr th:only-of-type {\n",
       "        vertical-align: middle;\n",
       "    }\n",
       "\n",
       "    .dataframe tbody tr th {\n",
       "        vertical-align: top;\n",
       "    }\n",
       "\n",
       "    .dataframe thead th {\n",
       "        text-align: right;\n",
       "    }\n",
       "</style>\n",
       "<table border=\"1\" class=\"dataframe\">\n",
       "  <thead>\n",
       "    <tr style=\"text-align: right;\">\n",
       "      <th></th>\n",
       "      <th>id</th>\n",
       "      <th>date</th>\n",
       "      <th>store_nbr</th>\n",
       "      <th>item_nbr</th>\n",
       "      <th>unit_sales</th>\n",
       "      <th>onpromotion</th>\n",
       "      <th>z_scores</th>\n",
       "    </tr>\n",
       "  </thead>\n",
       "  <tbody>\n",
       "    <tr>\n",
       "      <th>0</th>\n",
       "      <td>302230</td>\n",
       "      <td>2013-01-09</td>\n",
       "      <td>24</td>\n",
       "      <td>96995</td>\n",
       "      <td>2.0</td>\n",
       "      <td>0</td>\n",
       "      <td>0.053571</td>\n",
       "    </tr>\n",
       "    <tr>\n",
       "      <th>1</th>\n",
       "      <td>419989</td>\n",
       "      <td>2013-01-12</td>\n",
       "      <td>24</td>\n",
       "      <td>96995</td>\n",
       "      <td>2.0</td>\n",
       "      <td>0</td>\n",
       "      <td>0.053571</td>\n",
       "    </tr>\n",
       "    <tr>\n",
       "      <th>2</th>\n",
       "      <td>582436</td>\n",
       "      <td>2013-01-16</td>\n",
       "      <td>24</td>\n",
       "      <td>96995</td>\n",
       "      <td>1.0</td>\n",
       "      <td>0</td>\n",
       "      <td>-0.604164</td>\n",
       "    </tr>\n",
       "    <tr>\n",
       "      <th>3</th>\n",
       "      <td>622071</td>\n",
       "      <td>2013-01-17</td>\n",
       "      <td>24</td>\n",
       "      <td>96995</td>\n",
       "      <td>2.0</td>\n",
       "      <td>0</td>\n",
       "      <td>0.053571</td>\n",
       "    </tr>\n",
       "    <tr>\n",
       "      <th>4</th>\n",
       "      <td>745650</td>\n",
       "      <td>2013-01-20</td>\n",
       "      <td>24</td>\n",
       "      <td>96995</td>\n",
       "      <td>3.0</td>\n",
       "      <td>0</td>\n",
       "      <td>0.711307</td>\n",
       "    </tr>\n",
       "  </tbody>\n",
       "</table>\n",
       "</div>"
      ],
      "text/plain": [
       "       id        date  store_nbr  item_nbr  unit_sales  onpromotion  z_scores\n",
       "0  302230  2013-01-09         24     96995         2.0            0  0.053571\n",
       "1  419989  2013-01-12         24     96995         2.0            0  0.053571\n",
       "2  582436  2013-01-16         24     96995         1.0            0 -0.604164\n",
       "3  622071  2013-01-17         24     96995         2.0            0  0.053571\n",
       "4  745650  2013-01-20         24     96995         3.0            0  0.711307"
      ]
     },
     "execution_count": 26,
     "metadata": {},
     "output_type": "execute_result"
    }
   ],
   "source": [
    "df_train_grouped = df_train.groupby(['store_nbr', 'item_nbr']).apply(calculate_zscore_store_item)\n",
    "df_train_grouped.reset_index(drop=True, inplace=True)\n",
    "df_train_grouped.head()"
   ]
  },
  {
   "cell_type": "code",
   "execution_count": 27,
   "metadata": {
    "colab": {
     "base_uri": "https://localhost:8080/"
    },
    "executionInfo": {
     "elapsed": 59,
     "status": "ok",
     "timestamp": 1745843861201,
     "user": {
      "displayName": "Thofa Tazkia",
      "userId": "05683292458392942822"
     },
     "user_tz": -120
    },
    "id": "Q8_cqE4lRbEG",
    "outputId": "546f3e83-f91a-44b6-d265-4d974e4b9ecf"
   },
   "outputs": [],
   "source": [
    "# Create the 'outlier' column based on the condition z_scores > 5\n",
    "df_train_grouped['outlier'] = df_train_grouped['z_scores'].apply(lambda x: 1 if x > 5 else 0)\n"
   ]
  },
  {
   "cell_type": "code",
   "execution_count": 28,
   "metadata": {
    "colab": {
     "base_uri": "https://localhost:8080/",
     "height": 206
    },
    "executionInfo": {
     "elapsed": 68,
     "status": "ok",
     "timestamp": 1745843861276,
     "user": {
      "displayName": "Thofa Tazkia",
      "userId": "05683292458392942822"
     },
     "user_tz": -120
    },
    "id": "XMemJc8dPrTP",
    "outputId": "a28000b2-a6bb-424c-9353-98308bde35f0"
   },
   "outputs": [
    {
     "name": "stdout",
     "output_type": "stream",
     "text": [
      "40.23344517827156\n",
      "-3.3269454779378824\n",
      "-7.187015280242966e-19\n",
      "0.9992736931847017\n"
     ]
    }
   ],
   "source": [
    "print(df_train_grouped['z_scores'].max())\n",
    "print(df_train_grouped['z_scores'].min())\n",
    "print(df_train_grouped['z_scores'].mean())\n",
    "print(df_train_grouped['z_scores'].std())\n"
   ]
  },
  {
   "cell_type": "code",
   "execution_count": 29,
   "metadata": {
    "colab": {
     "base_uri": "https://localhost:8080/",
     "height": 206
    },
    "executionInfo": {
     "elapsed": 68,
     "status": "ok",
     "timestamp": 1745843861276,
     "user": {
      "displayName": "Thofa Tazkia",
      "userId": "05683292458392942822"
     },
     "user_tz": -120
    },
    "id": "XMemJc8dPrTP",
    "outputId": "a28000b2-a6bb-424c-9353-98308bde35f0"
   },
   "outputs": [
    {
     "name": "stdout",
     "output_type": "stream",
     "text": [
      "The number of outliers is 48485\n",
      "The outliers shape is (48485, 8)\n"
     ]
    },
    {
     "data": {
      "text/html": [
       "<div>\n",
       "<style scoped>\n",
       "    .dataframe tbody tr th:only-of-type {\n",
       "        vertical-align: middle;\n",
       "    }\n",
       "\n",
       "    .dataframe tbody tr th {\n",
       "        vertical-align: top;\n",
       "    }\n",
       "\n",
       "    .dataframe thead th {\n",
       "        text-align: right;\n",
       "    }\n",
       "</style>\n",
       "<table border=\"1\" class=\"dataframe\">\n",
       "  <thead>\n",
       "    <tr style=\"text-align: right;\">\n",
       "      <th></th>\n",
       "      <th>id</th>\n",
       "      <th>date</th>\n",
       "      <th>store_nbr</th>\n",
       "      <th>item_nbr</th>\n",
       "      <th>unit_sales</th>\n",
       "      <th>onpromotion</th>\n",
       "      <th>z_scores</th>\n",
       "      <th>outlier</th>\n",
       "    </tr>\n",
       "  </thead>\n",
       "  <tbody>\n",
       "    <tr>\n",
       "      <th>188</th>\n",
       "      <td>15666702</td>\n",
       "      <td>2013-12-18</td>\n",
       "      <td>24</td>\n",
       "      <td>96995</td>\n",
       "      <td>14.0</td>\n",
       "      <td>0</td>\n",
       "      <td>7.946399</td>\n",
       "      <td>1</td>\n",
       "    </tr>\n",
       "    <tr>\n",
       "      <th>286</th>\n",
       "      <td>59775862</td>\n",
       "      <td>2015-10-20</td>\n",
       "      <td>24</td>\n",
       "      <td>99197</td>\n",
       "      <td>14.0</td>\n",
       "      <td>0</td>\n",
       "      <td>5.822016</td>\n",
       "      <td>1</td>\n",
       "    </tr>\n",
       "    <tr>\n",
       "      <th>289</th>\n",
       "      <td>60322807</td>\n",
       "      <td>2015-10-26</td>\n",
       "      <td>24</td>\n",
       "      <td>99197</td>\n",
       "      <td>19.0</td>\n",
       "      <td>0</td>\n",
       "      <td>8.276173</td>\n",
       "      <td>1</td>\n",
       "    </tr>\n",
       "    <tr>\n",
       "      <th>721</th>\n",
       "      <td>15717753</td>\n",
       "      <td>2013-12-19</td>\n",
       "      <td>24</td>\n",
       "      <td>103520</td>\n",
       "      <td>27.0</td>\n",
       "      <td>0</td>\n",
       "      <td>6.642670</td>\n",
       "      <td>1</td>\n",
       "    </tr>\n",
       "    <tr>\n",
       "      <th>770</th>\n",
       "      <td>18886543</td>\n",
       "      <td>2014-02-13</td>\n",
       "      <td>24</td>\n",
       "      <td>103520</td>\n",
       "      <td>22.0</td>\n",
       "      <td>0</td>\n",
       "      <td>5.154400</td>\n",
       "      <td>1</td>\n",
       "    </tr>\n",
       "  </tbody>\n",
       "</table>\n",
       "</div>"
      ],
      "text/plain": [
       "           id        date  store_nbr  item_nbr  unit_sales  onpromotion  \\\n",
       "188  15666702  2013-12-18         24     96995        14.0            0   \n",
       "286  59775862  2015-10-20         24     99197        14.0            0   \n",
       "289  60322807  2015-10-26         24     99197        19.0            0   \n",
       "721  15717753  2013-12-19         24    103520        27.0            0   \n",
       "770  18886543  2014-02-13         24    103520        22.0            0   \n",
       "\n",
       "     z_scores  outlier  \n",
       "188  7.946399        1  \n",
       "286  5.822016        1  \n",
       "289  8.276173        1  \n",
       "721  6.642670        1  \n",
       "770  5.154400        1  "
      ]
     },
     "execution_count": 29,
     "metadata": {},
     "output_type": "execute_result"
    }
   ],
   "source": [
    "# Define threshold for outliers (unit_sales) (e.g., Z-score > 5)\n",
    "outliers = df_train_grouped[df_train_grouped['z_scores'] > 5]\n",
    "print('The number of outliers is', len(outliers))\n",
    "print('The outliers shape is',outliers.shape)\n",
    "outliers.head() # 48485 rows × 7 columns"
   ]
  },
  {
   "cell_type": "markdown",
   "metadata": {
    "id": "x92awx70TsKN"
   },
   "source": [
    "There are many of these values but they don't look like errors. These are just big sales.\n",
    "\n",
    "Next, let's work with zero-sales that we might have for particular item-store combinations and for particular dates:"
   ]
  },
  {
   "cell_type": "markdown",
   "metadata": {
    "colab": {
     "base_uri": "https://localhost:8080/"
    },
    "executionInfo": {
     "elapsed": 965,
     "status": "ok",
     "timestamp": 1745854651676,
     "user": {
      "displayName": "Thofa Tazkia",
      "userId": "05683292458392942822"
     },
     "user_tz": -120
    },
    "id": "2Ag4MAenUnJ1",
    "outputId": "858bc01b-929f-462b-b7ca-2b6ef6fc1b1b"
   },
   "source": [
    "## **4. Zero Sales Analysis**"
   ]
  },
  {
   "cell_type": "code",
   "execution_count": 33,
   "metadata": {
    "colab": {
     "base_uri": "https://localhost:8080/",
     "height": 241
    },
    "executionInfo": {
     "elapsed": 5,
     "status": "ok",
     "timestamp": 1745843862686,
     "user": {
      "displayName": "Thofa Tazkia",
      "userId": "05683292458392942822"
     },
     "user_tz": -120
    },
    "id": "OSq9SKUzWXuH",
    "outputId": "681ab6fc-9d31-4b94-ad21-ac2e5f416ffa"
   },
   "outputs": [
    {
     "name": "stdout",
     "output_type": "stream",
     "text": [
      "date   2013-01-02\n",
      "dtype: datetime64[ns]\n",
      "date   2017-08-15\n",
      "dtype: datetime64[ns]\n"
     ]
    },
    {
     "name": "stderr",
     "output_type": "stream",
     "text": [
      "/var/folders/hj/bjtkr_b13175_g6c53_yly7c0000gn/T/ipykernel_73348/314674489.py:2: SettingWithCopyWarning: \n",
      "A value is trying to be set on a copy of a slice from a DataFrame.\n",
      "Try using .loc[row_indexer,col_indexer] = value instead\n",
      "\n",
      "See the caveats in the documentation: https://pandas.pydata.org/pandas-docs/stable/user_guide/indexing.html#returning-a-view-versus-a-copy\n",
      "  df_train['date'] = pd.to_datetime(df_train['date'])\n"
     ]
    },
    {
     "data": {
      "text/html": [
       "<div>\n",
       "<style scoped>\n",
       "    .dataframe tbody tr th:only-of-type {\n",
       "        vertical-align: middle;\n",
       "    }\n",
       "\n",
       "    .dataframe tbody tr th {\n",
       "        vertical-align: top;\n",
       "    }\n",
       "\n",
       "    .dataframe thead th {\n",
       "        text-align: right;\n",
       "    }\n",
       "</style>\n",
       "<table border=\"1\" class=\"dataframe\">\n",
       "  <thead>\n",
       "    <tr style=\"text-align: right;\">\n",
       "      <th></th>\n",
       "      <th>date</th>\n",
       "    </tr>\n",
       "  </thead>\n",
       "  <tbody>\n",
       "    <tr>\n",
       "      <th>0</th>\n",
       "      <td>2013-01-02</td>\n",
       "    </tr>\n",
       "    <tr>\n",
       "      <th>1</th>\n",
       "      <td>2013-01-03</td>\n",
       "    </tr>\n",
       "    <tr>\n",
       "      <th>2</th>\n",
       "      <td>2013-01-04</td>\n",
       "    </tr>\n",
       "    <tr>\n",
       "      <th>3</th>\n",
       "      <td>2013-01-05</td>\n",
       "    </tr>\n",
       "    <tr>\n",
       "      <th>4</th>\n",
       "      <td>2013-01-06</td>\n",
       "    </tr>\n",
       "    <tr>\n",
       "      <th>...</th>\n",
       "      <td>...</td>\n",
       "    </tr>\n",
       "    <tr>\n",
       "      <th>1682</th>\n",
       "      <td>2017-08-11</td>\n",
       "    </tr>\n",
       "    <tr>\n",
       "      <th>1683</th>\n",
       "      <td>2017-08-12</td>\n",
       "    </tr>\n",
       "    <tr>\n",
       "      <th>1684</th>\n",
       "      <td>2017-08-13</td>\n",
       "    </tr>\n",
       "    <tr>\n",
       "      <th>1685</th>\n",
       "      <td>2017-08-14</td>\n",
       "    </tr>\n",
       "    <tr>\n",
       "      <th>1686</th>\n",
       "      <td>2017-08-15</td>\n",
       "    </tr>\n",
       "  </tbody>\n",
       "</table>\n",
       "<p>1687 rows × 1 columns</p>\n",
       "</div>"
      ],
      "text/plain": [
       "           date\n",
       "0    2013-01-02\n",
       "1    2013-01-03\n",
       "2    2013-01-04\n",
       "3    2013-01-05\n",
       "4    2013-01-06\n",
       "...         ...\n",
       "1682 2017-08-11\n",
       "1683 2017-08-12\n",
       "1684 2017-08-13\n",
       "1685 2017-08-14\n",
       "1686 2017-08-15\n",
       "\n",
       "[1687 rows x 1 columns]"
      ]
     },
     "execution_count": 33,
     "metadata": {},
     "output_type": "execute_result"
    }
   ],
   "source": [
    "# Convert 'date' column to datetime format\n",
    "df_train['date'] = pd.to_datetime(df_train['date'])\n",
    "# Get the minimum and maximum dates in the dataset to create a full date range\n",
    "min_date = df_train['date'].min()\n",
    "max_date = df_train['date'].max()\n",
    "# Get full date range\n",
    "full_date_range = pd.date_range(start=min_date, end=max_date, freq='D')\n",
    "# Create a DataFrame with the full date range\n",
    "full_date_df = pd.DataFrame({'date': full_date_range})\n",
    "print(full_date_df.min())\n",
    "print(full_date_df.max())\n",
    "full_date_df\n"
   ]
  },
  {
   "cell_type": "markdown",
   "metadata": {
    "colab": {
     "base_uri": "https://localhost:8080/",
     "height": 193
    },
    "executionInfo": {
     "elapsed": 237,
     "status": "error",
     "timestamp": 1745854833922,
     "user": {
      "displayName": "Thofa Tazkia",
      "userId": "05683292458392942822"
     },
     "user_tz": -120
    },
    "id": "mkNrX0BoW_NG",
    "outputId": "73f33b33-c874-4f51-a841-0dc8f3cb922e"
   },
   "source": [
    "Ok, now we have a list of all dates between the min and max date in our dataset! Next, let's create a DataFrame with all (store, item, date) combinations"
   ]
  },
  {
   "cell_type": "code",
   "execution_count": 34,
   "metadata": {
    "colab": {
     "base_uri": "https://localhost:8080/",
     "height": 193
    },
    "executionInfo": {
     "elapsed": 237,
     "status": "error",
     "timestamp": 1745854833922,
     "user": {
      "displayName": "Thofa Tazkia",
      "userId": "05683292458392942822"
     },
     "user_tz": -120
    },
    "id": "mkNrX0BoW_NG",
    "outputId": "73f33b33-c874-4f51-a841-0dc8f3cb922e"
   },
   "outputs": [
    {
     "data": {
      "text/html": [
       "<div>\n",
       "<style scoped>\n",
       "    .dataframe tbody tr th:only-of-type {\n",
       "        vertical-align: middle;\n",
       "    }\n",
       "\n",
       "    .dataframe tbody tr th {\n",
       "        vertical-align: top;\n",
       "    }\n",
       "\n",
       "    .dataframe thead th {\n",
       "        text-align: right;\n",
       "    }\n",
       "</style>\n",
       "<table border=\"1\" class=\"dataframe\">\n",
       "  <thead>\n",
       "    <tr style=\"text-align: right;\">\n",
       "      <th></th>\n",
       "      <th>store_nbr</th>\n",
       "      <th>item_nbr</th>\n",
       "    </tr>\n",
       "  </thead>\n",
       "  <tbody>\n",
       "    <tr>\n",
       "      <th>1</th>\n",
       "      <td>24</td>\n",
       "      <td>105574</td>\n",
       "    </tr>\n",
       "    <tr>\n",
       "      <th>2</th>\n",
       "      <td>24</td>\n",
       "      <td>105575</td>\n",
       "    </tr>\n",
       "    <tr>\n",
       "      <th>3</th>\n",
       "      <td>24</td>\n",
       "      <td>105577</td>\n",
       "    </tr>\n",
       "    <tr>\n",
       "      <th>4</th>\n",
       "      <td>24</td>\n",
       "      <td>105693</td>\n",
       "    </tr>\n",
       "    <tr>\n",
       "      <th>5</th>\n",
       "      <td>24</td>\n",
       "      <td>105737</td>\n",
       "    </tr>\n",
       "    <tr>\n",
       "      <th>...</th>\n",
       "      <td>...</td>\n",
       "      <td>...</td>\n",
       "    </tr>\n",
       "    <tr>\n",
       "      <th>22932374</th>\n",
       "      <td>29</td>\n",
       "      <td>2122868</td>\n",
       "    </tr>\n",
       "    <tr>\n",
       "      <th>22932376</th>\n",
       "      <td>29</td>\n",
       "      <td>2123839</td>\n",
       "    </tr>\n",
       "    <tr>\n",
       "      <th>22941652</th>\n",
       "      <td>51</td>\n",
       "      <td>2123750</td>\n",
       "    </tr>\n",
       "    <tr>\n",
       "      <th>22941653</th>\n",
       "      <td>51</td>\n",
       "      <td>2123775</td>\n",
       "    </tr>\n",
       "    <tr>\n",
       "      <th>22941654</th>\n",
       "      <td>51</td>\n",
       "      <td>2123791</td>\n",
       "    </tr>\n",
       "  </tbody>\n",
       "</table>\n",
       "<p>20788 rows × 2 columns</p>\n",
       "</div>"
      ],
      "text/plain": [
       "          store_nbr  item_nbr\n",
       "1                24    105574\n",
       "2                24    105575\n",
       "3                24    105577\n",
       "4                24    105693\n",
       "5                24    105737\n",
       "...             ...       ...\n",
       "22932374         29   2122868\n",
       "22932376         29   2123839\n",
       "22941652         51   2123750\n",
       "22941653         51   2123775\n",
       "22941654         51   2123791\n",
       "\n",
       "[20788 rows x 2 columns]"
      ]
     },
     "execution_count": 34,
     "metadata": {},
     "output_type": "execute_result"
    }
   ],
   "source": [
    "# Create a DataFrame with all (store, item, date) combinations\n",
    "store_item_combinations=df_train[['store_nbr','item_nbr']].drop_duplicates()\n",
    "store_item_combinations\n",
    "\n"
   ]
  },
  {
   "cell_type": "code",
   "execution_count": 35,
   "metadata": {},
   "outputs": [
    {
     "data": {
      "text/html": [
       "<div>\n",
       "<style scoped>\n",
       "    .dataframe tbody tr th:only-of-type {\n",
       "        vertical-align: middle;\n",
       "    }\n",
       "\n",
       "    .dataframe tbody tr th {\n",
       "        vertical-align: top;\n",
       "    }\n",
       "\n",
       "    .dataframe thead th {\n",
       "        text-align: right;\n",
       "    }\n",
       "</style>\n",
       "<table border=\"1\" class=\"dataframe\">\n",
       "  <thead>\n",
       "    <tr style=\"text-align: right;\">\n",
       "      <th></th>\n",
       "      <th>store_nbr</th>\n",
       "      <th>item_nbr</th>\n",
       "      <th>date</th>\n",
       "    </tr>\n",
       "  </thead>\n",
       "  <tbody>\n",
       "    <tr>\n",
       "      <th>0</th>\n",
       "      <td>24</td>\n",
       "      <td>105574</td>\n",
       "      <td>2013-01-02</td>\n",
       "    </tr>\n",
       "    <tr>\n",
       "      <th>1</th>\n",
       "      <td>24</td>\n",
       "      <td>105574</td>\n",
       "      <td>2013-01-03</td>\n",
       "    </tr>\n",
       "    <tr>\n",
       "      <th>2</th>\n",
       "      <td>24</td>\n",
       "      <td>105574</td>\n",
       "      <td>2013-01-04</td>\n",
       "    </tr>\n",
       "    <tr>\n",
       "      <th>3</th>\n",
       "      <td>24</td>\n",
       "      <td>105574</td>\n",
       "      <td>2013-01-05</td>\n",
       "    </tr>\n",
       "    <tr>\n",
       "      <th>4</th>\n",
       "      <td>24</td>\n",
       "      <td>105574</td>\n",
       "      <td>2013-01-06</td>\n",
       "    </tr>\n",
       "    <tr>\n",
       "      <th>...</th>\n",
       "      <td>...</td>\n",
       "      <td>...</td>\n",
       "      <td>...</td>\n",
       "    </tr>\n",
       "    <tr>\n",
       "      <th>35069351</th>\n",
       "      <td>51</td>\n",
       "      <td>2123791</td>\n",
       "      <td>2017-08-11</td>\n",
       "    </tr>\n",
       "    <tr>\n",
       "      <th>35069352</th>\n",
       "      <td>51</td>\n",
       "      <td>2123791</td>\n",
       "      <td>2017-08-12</td>\n",
       "    </tr>\n",
       "    <tr>\n",
       "      <th>35069353</th>\n",
       "      <td>51</td>\n",
       "      <td>2123791</td>\n",
       "      <td>2017-08-13</td>\n",
       "    </tr>\n",
       "    <tr>\n",
       "      <th>35069354</th>\n",
       "      <td>51</td>\n",
       "      <td>2123791</td>\n",
       "      <td>2017-08-14</td>\n",
       "    </tr>\n",
       "    <tr>\n",
       "      <th>35069355</th>\n",
       "      <td>51</td>\n",
       "      <td>2123791</td>\n",
       "      <td>2017-08-15</td>\n",
       "    </tr>\n",
       "  </tbody>\n",
       "</table>\n",
       "<p>35069356 rows × 3 columns</p>\n",
       "</div>"
      ],
      "text/plain": [
       "          store_nbr  item_nbr       date\n",
       "0                24    105574 2013-01-02\n",
       "1                24    105574 2013-01-03\n",
       "2                24    105574 2013-01-04\n",
       "3                24    105574 2013-01-05\n",
       "4                24    105574 2013-01-06\n",
       "...             ...       ...        ...\n",
       "35069351         51   2123791 2017-08-11\n",
       "35069352         51   2123791 2017-08-12\n",
       "35069353         51   2123791 2017-08-13\n",
       "35069354         51   2123791 2017-08-14\n",
       "35069355         51   2123791 2017-08-15\n",
       "\n",
       "[35069356 rows x 3 columns]"
      ]
     },
     "execution_count": 35,
     "metadata": {},
     "output_type": "execute_result"
    }
   ],
   "source": [
    "all_combinations = store_item_combinations.merge(full_date_df, how='cross')\n",
    "all_combinations"
   ]
  },
  {
   "cell_type": "markdown",
   "metadata": {},
   "source": [
    "and now we are finally ready to fill up the original data with missing dates by merging two dataframes::"
   ]
  },
  {
   "cell_type": "code",
   "execution_count": 38,
   "metadata": {},
   "outputs": [
    {
     "name": "stdout",
     "output_type": "stream",
     "text": [
      "The filled shape is (35069356, 6)\n"
     ]
    },
    {
     "data": {
      "image/png": "[encoded data removed]",
      "text/plain": [
       "<Figure size 1200x600 with 1 Axes>"
      ]
     },
     "metadata": {},
     "output_type": "display_data"
    },
    {
     "data": {
      "text/html": [
       "<div>\n",
       "<style scoped>\n",
       "    .dataframe tbody tr th:only-of-type {\n",
       "        vertical-align: middle;\n",
       "    }\n",
       "\n",
       "    .dataframe tbody tr th {\n",
       "        vertical-align: top;\n",
       "    }\n",
       "\n",
       "    .dataframe thead th {\n",
       "        text-align: right;\n",
       "    }\n",
       "</style>\n",
       "<table border=\"1\" class=\"dataframe\">\n",
       "  <thead>\n",
       "    <tr style=\"text-align: right;\">\n",
       "      <th></th>\n",
       "      <th>store_nbr</th>\n",
       "      <th>item_nbr</th>\n",
       "      <th>date</th>\n",
       "      <th>id</th>\n",
       "      <th>unit_sales</th>\n",
       "      <th>onpromotion</th>\n",
       "    </tr>\n",
       "  </thead>\n",
       "  <tbody>\n",
       "    <tr>\n",
       "      <th>0</th>\n",
       "      <td>24</td>\n",
       "      <td>105574</td>\n",
       "      <td>2013-01-02</td>\n",
       "      <td>18790.0</td>\n",
       "      <td>12.0</td>\n",
       "      <td>0.0</td>\n",
       "    </tr>\n",
       "    <tr>\n",
       "      <th>1</th>\n",
       "      <td>24</td>\n",
       "      <td>105574</td>\n",
       "      <td>2013-01-03</td>\n",
       "      <td>59692.0</td>\n",
       "      <td>1.0</td>\n",
       "      <td>0.0</td>\n",
       "    </tr>\n",
       "    <tr>\n",
       "      <th>2</th>\n",
       "      <td>24</td>\n",
       "      <td>105574</td>\n",
       "      <td>2013-01-04</td>\n",
       "      <td>99664.0</td>\n",
       "      <td>3.0</td>\n",
       "      <td>0.0</td>\n",
       "    </tr>\n",
       "    <tr>\n",
       "      <th>3</th>\n",
       "      <td>24</td>\n",
       "      <td>105574</td>\n",
       "      <td>2013-01-05</td>\n",
       "      <td>140805.0</td>\n",
       "      <td>4.0</td>\n",
       "      <td>0.0</td>\n",
       "    </tr>\n",
       "    <tr>\n",
       "      <th>4</th>\n",
       "      <td>24</td>\n",
       "      <td>105574</td>\n",
       "      <td>2013-01-06</td>\n",
       "      <td>182800.0</td>\n",
       "      <td>7.0</td>\n",
       "      <td>0.0</td>\n",
       "    </tr>\n",
       "  </tbody>\n",
       "</table>\n",
       "</div>"
      ],
      "text/plain": [
       "   store_nbr  item_nbr       date        id  unit_sales  onpromotion\n",
       "0         24    105574 2013-01-02   18790.0        12.0          0.0\n",
       "1         24    105574 2013-01-03   59692.0         1.0          0.0\n",
       "2         24    105574 2013-01-04   99664.0         3.0          0.0\n",
       "3         24    105574 2013-01-05  140805.0         4.0          0.0\n",
       "4         24    105574 2013-01-06  182800.0         7.0          0.0"
      ]
     },
     "execution_count": 38,
     "metadata": {},
     "output_type": "execute_result"
    }
   ],
   "source": [
    "# Merge with original data to fill missing dates\n",
    "df_filled = all_combinations.merge(df_train, on=['store_nbr', 'item_nbr', 'date'], how='left')\n",
    "\n",
    "# Fill missing sales values with 0\n",
    "df_filled['unit_sales'] = df_filled['unit_sales'].fillna(0)\n",
    "\n",
    "# Check the first few rows\n",
    "print('The filled shape is',df_filled.shape)\n",
    "\n",
    "# plot unit_sales vs date\n",
    "plt.figure(figsize=(12, 6))\n",
    "plt.plot(df_filled['date'], df_filled['unit_sales'], alpha=0.6)\n",
    "plt.xlabel('Date', fontsize=14)\n",
    "plt.ylabel('Unit Sales', fontsize=14)\n",
    "plt.title('Unit Sales vs Date', fontsize=16)\n",
    "plt.grid(True)\n",
    "plt.tight_layout()\n",
    "plt.show()\n",
    "df_filled.head(5)\n"
   ]
  },
  {
   "cell_type": "code",
   "execution_count": 47,
   "metadata": {},
   "outputs": [
    {
     "name": "stdout",
     "output_type": "stream",
     "text": [
      "unique count\n",
      " store_nbr            11\n",
      "item_nbr           2323\n",
      "date               1687\n",
      "id             14745768\n",
      "unit_sales         4467\n",
      "onpromotion           2\n",
      "dtype: int64\n",
      "shape\n",
      " (35069356, 6)\n",
      "null value\n",
      " store_nbr             0\n",
      "item_nbr              0\n",
      "date                  0\n",
      "id             20323588\n",
      "unit_sales            0\n",
      "onpromotion    20323588\n",
      "dtype: int64\n"
     ]
    }
   ],
   "source": [
    "print('unique count\\n',df_filled.nunique())\n",
    "print('shape\\n',df_filled.shape)\n",
    "print('null value\\n',df_filled.isnull().sum())"
   ]
  },
  {
   "cell_type": "code",
   "execution_count": 45,
   "metadata": {},
   "outputs": [
    {
     "data": {
      "text/html": [
       "<div>\n",
       "<style scoped>\n",
       "    .dataframe tbody tr th:only-of-type {\n",
       "        vertical-align: middle;\n",
       "    }\n",
       "\n",
       "    .dataframe tbody tr th {\n",
       "        vertical-align: top;\n",
       "    }\n",
       "\n",
       "    .dataframe thead th {\n",
       "        text-align: right;\n",
       "    }\n",
       "</style>\n",
       "<table border=\"1\" class=\"dataframe\">\n",
       "  <thead>\n",
       "    <tr style=\"text-align: right;\">\n",
       "      <th></th>\n",
       "      <th>store_nbr</th>\n",
       "      <th>item_nbr</th>\n",
       "      <th>date</th>\n",
       "      <th>id</th>\n",
       "      <th>unit_sales</th>\n",
       "      <th>onpromotion</th>\n",
       "    </tr>\n",
       "  </thead>\n",
       "  <tbody>\n",
       "    <tr>\n",
       "      <th>22</th>\n",
       "      <td>24</td>\n",
       "      <td>105574</td>\n",
       "      <td>2013-01-24</td>\n",
       "      <td>NaN</td>\n",
       "      <td>0.0</td>\n",
       "      <td>NaN</td>\n",
       "    </tr>\n",
       "    <tr>\n",
       "      <th>34</th>\n",
       "      <td>24</td>\n",
       "      <td>105574</td>\n",
       "      <td>2013-02-05</td>\n",
       "      <td>NaN</td>\n",
       "      <td>0.0</td>\n",
       "      <td>NaN</td>\n",
       "    </tr>\n",
       "    <tr>\n",
       "      <th>39</th>\n",
       "      <td>24</td>\n",
       "      <td>105574</td>\n",
       "      <td>2013-02-10</td>\n",
       "      <td>NaN</td>\n",
       "      <td>0.0</td>\n",
       "      <td>NaN</td>\n",
       "    </tr>\n",
       "    <tr>\n",
       "      <th>40</th>\n",
       "      <td>24</td>\n",
       "      <td>105574</td>\n",
       "      <td>2013-02-11</td>\n",
       "      <td>NaN</td>\n",
       "      <td>0.0</td>\n",
       "      <td>NaN</td>\n",
       "    </tr>\n",
       "    <tr>\n",
       "      <th>41</th>\n",
       "      <td>24</td>\n",
       "      <td>105574</td>\n",
       "      <td>2013-02-12</td>\n",
       "      <td>NaN</td>\n",
       "      <td>0.0</td>\n",
       "      <td>NaN</td>\n",
       "    </tr>\n",
       "    <tr>\n",
       "      <th>...</th>\n",
       "      <td>...</td>\n",
       "      <td>...</td>\n",
       "      <td>...</td>\n",
       "      <td>...</td>\n",
       "      <td>...</td>\n",
       "      <td>...</td>\n",
       "    </tr>\n",
       "    <tr>\n",
       "      <th>35069350</th>\n",
       "      <td>51</td>\n",
       "      <td>2123791</td>\n",
       "      <td>2017-08-10</td>\n",
       "      <td>NaN</td>\n",
       "      <td>0.0</td>\n",
       "      <td>NaN</td>\n",
       "    </tr>\n",
       "    <tr>\n",
       "      <th>35069351</th>\n",
       "      <td>51</td>\n",
       "      <td>2123791</td>\n",
       "      <td>2017-08-11</td>\n",
       "      <td>NaN</td>\n",
       "      <td>0.0</td>\n",
       "      <td>NaN</td>\n",
       "    </tr>\n",
       "    <tr>\n",
       "      <th>35069352</th>\n",
       "      <td>51</td>\n",
       "      <td>2123791</td>\n",
       "      <td>2017-08-12</td>\n",
       "      <td>NaN</td>\n",
       "      <td>0.0</td>\n",
       "      <td>NaN</td>\n",
       "    </tr>\n",
       "    <tr>\n",
       "      <th>35069353</th>\n",
       "      <td>51</td>\n",
       "      <td>2123791</td>\n",
       "      <td>2017-08-13</td>\n",
       "      <td>NaN</td>\n",
       "      <td>0.0</td>\n",
       "      <td>NaN</td>\n",
       "    </tr>\n",
       "    <tr>\n",
       "      <th>35069354</th>\n",
       "      <td>51</td>\n",
       "      <td>2123791</td>\n",
       "      <td>2017-08-14</td>\n",
       "      <td>NaN</td>\n",
       "      <td>0.0</td>\n",
       "      <td>NaN</td>\n",
       "    </tr>\n",
       "  </tbody>\n",
       "</table>\n",
       "<p>20324382 rows × 6 columns</p>\n",
       "</div>"
      ],
      "text/plain": [
       "          store_nbr  item_nbr       date  id  unit_sales  onpromotion\n",
       "22               24    105574 2013-01-24 NaN         0.0          NaN\n",
       "34               24    105574 2013-02-05 NaN         0.0          NaN\n",
       "39               24    105574 2013-02-10 NaN         0.0          NaN\n",
       "40               24    105574 2013-02-11 NaN         0.0          NaN\n",
       "41               24    105574 2013-02-12 NaN         0.0          NaN\n",
       "...             ...       ...        ...  ..         ...          ...\n",
       "35069350         51   2123791 2017-08-10 NaN         0.0          NaN\n",
       "35069351         51   2123791 2017-08-11 NaN         0.0          NaN\n",
       "35069352         51   2123791 2017-08-12 NaN         0.0          NaN\n",
       "35069353         51   2123791 2017-08-13 NaN         0.0          NaN\n",
       "35069354         51   2123791 2017-08-14 NaN         0.0          NaN\n",
       "\n",
       "[20324382 rows x 6 columns]"
      ]
     },
     "execution_count": 45,
     "metadata": {},
     "output_type": "execute_result"
    }
   ],
   "source": [
    "zero_sales=df_filled[df_filled['unit_sales']==0]\n",
    "zero_sales"
   ]
  },
  {
   "cell_type": "markdown",
   "metadata": {
    "colab": {
     "base_uri": "https://localhost:8080/"
    },
    "executionInfo": {
     "elapsed": 10,
     "status": "ok",
     "timestamp": 1745844428733,
     "user": {
      "displayName": "Thofa Tazkia",
      "userId": "05683292458392942822"
     },
     "user_tz": -120
    },
    "id": "DAsFpBWgb34j",
    "outputId": "9c2cfb63-09d0-4fe2-846a-af1d06dc2fb7"
   },
   "source": [
    "## 5. **Feature Engineering**"
   ]
  },
  {
   "cell_type": "markdown",
   "metadata": {},
   "source": [
    "Now we have all dates and corresponding sales for them. Let's replace the original dataframe:"
   ]
  },
  {
   "cell_type": "code",
   "execution_count": 48,
   "metadata": {},
   "outputs": [],
   "source": [
    "df_train = df_filled\n",
    "del df_filled"
   ]
  },
  {
   "cell_type": "code",
   "execution_count": 49,
   "metadata": {},
   "outputs": [],
   "source": [
    "# Convert date column to datetime\n",
    "df_train['date'] = pd.to_datetime(df_train['date'])\n",
    "\n",
    "# Creating new time-based features\n",
    "df_train['year'] = df_train['date'].dt.year\n",
    "df_train['month'] = df_train['date'].dt.month\n",
    "df_train['day'] = df_train['date'].dt.day\n",
    "df_train['day_of_week'] = df_train['date'].dt.dayofweek"
   ]
  },
  {
   "cell_type": "code",
   "execution_count": 54,
   "metadata": {},
   "outputs": [
    {
     "data": {
      "text/html": [
       "<div>\n",
       "<style scoped>\n",
       "    .dataframe tbody tr th:only-of-type {\n",
       "        vertical-align: middle;\n",
       "    }\n",
       "\n",
       "    .dataframe tbody tr th {\n",
       "        vertical-align: top;\n",
       "    }\n",
       "\n",
       "    .dataframe thead th {\n",
       "        text-align: right;\n",
       "    }\n",
       "</style>\n",
       "<table border=\"1\" class=\"dataframe\">\n",
       "  <thead>\n",
       "    <tr style=\"text-align: right;\">\n",
       "      <th></th>\n",
       "      <th>store_nbr</th>\n",
       "      <th>item_nbr</th>\n",
       "      <th>date</th>\n",
       "      <th>id</th>\n",
       "      <th>unit_sales</th>\n",
       "      <th>onpromotion</th>\n",
       "      <th>year</th>\n",
       "      <th>month</th>\n",
       "      <th>day</th>\n",
       "      <th>day_of_week</th>\n",
       "      <th>unit_sales_7d_avg</th>\n",
       "      <th>unit_sales_30d_avg</th>\n",
       "    </tr>\n",
       "  </thead>\n",
       "  <tbody>\n",
       "    <tr>\n",
       "      <th>35069346</th>\n",
       "      <td>51</td>\n",
       "      <td>2123791</td>\n",
       "      <td>2017-08-06</td>\n",
       "      <td>NaN</td>\n",
       "      <td>0.0</td>\n",
       "      <td>NaN</td>\n",
       "      <td>2017</td>\n",
       "      <td>8</td>\n",
       "      <td>6</td>\n",
       "      <td>6</td>\n",
       "      <td>0.000000</td>\n",
       "      <td>0.000000</td>\n",
       "    </tr>\n",
       "    <tr>\n",
       "      <th>35069347</th>\n",
       "      <td>51</td>\n",
       "      <td>2123791</td>\n",
       "      <td>2017-08-07</td>\n",
       "      <td>NaN</td>\n",
       "      <td>0.0</td>\n",
       "      <td>NaN</td>\n",
       "      <td>2017</td>\n",
       "      <td>8</td>\n",
       "      <td>7</td>\n",
       "      <td>0</td>\n",
       "      <td>0.000000</td>\n",
       "      <td>0.000000</td>\n",
       "    </tr>\n",
       "    <tr>\n",
       "      <th>35069348</th>\n",
       "      <td>51</td>\n",
       "      <td>2123791</td>\n",
       "      <td>2017-08-08</td>\n",
       "      <td>NaN</td>\n",
       "      <td>0.0</td>\n",
       "      <td>NaN</td>\n",
       "      <td>2017</td>\n",
       "      <td>8</td>\n",
       "      <td>8</td>\n",
       "      <td>1</td>\n",
       "      <td>0.000000</td>\n",
       "      <td>0.000000</td>\n",
       "    </tr>\n",
       "    <tr>\n",
       "      <th>35069349</th>\n",
       "      <td>51</td>\n",
       "      <td>2123791</td>\n",
       "      <td>2017-08-09</td>\n",
       "      <td>NaN</td>\n",
       "      <td>0.0</td>\n",
       "      <td>NaN</td>\n",
       "      <td>2017</td>\n",
       "      <td>8</td>\n",
       "      <td>9</td>\n",
       "      <td>2</td>\n",
       "      <td>0.000000</td>\n",
       "      <td>0.000000</td>\n",
       "    </tr>\n",
       "    <tr>\n",
       "      <th>35069350</th>\n",
       "      <td>51</td>\n",
       "      <td>2123791</td>\n",
       "      <td>2017-08-10</td>\n",
       "      <td>NaN</td>\n",
       "      <td>0.0</td>\n",
       "      <td>NaN</td>\n",
       "      <td>2017</td>\n",
       "      <td>8</td>\n",
       "      <td>10</td>\n",
       "      <td>3</td>\n",
       "      <td>0.000000</td>\n",
       "      <td>0.000000</td>\n",
       "    </tr>\n",
       "    <tr>\n",
       "      <th>35069351</th>\n",
       "      <td>51</td>\n",
       "      <td>2123791</td>\n",
       "      <td>2017-08-11</td>\n",
       "      <td>NaN</td>\n",
       "      <td>0.0</td>\n",
       "      <td>NaN</td>\n",
       "      <td>2017</td>\n",
       "      <td>8</td>\n",
       "      <td>11</td>\n",
       "      <td>4</td>\n",
       "      <td>0.000000</td>\n",
       "      <td>0.000000</td>\n",
       "    </tr>\n",
       "    <tr>\n",
       "      <th>35069352</th>\n",
       "      <td>51</td>\n",
       "      <td>2123791</td>\n",
       "      <td>2017-08-12</td>\n",
       "      <td>NaN</td>\n",
       "      <td>0.0</td>\n",
       "      <td>NaN</td>\n",
       "      <td>2017</td>\n",
       "      <td>8</td>\n",
       "      <td>12</td>\n",
       "      <td>5</td>\n",
       "      <td>0.000000</td>\n",
       "      <td>0.000000</td>\n",
       "    </tr>\n",
       "    <tr>\n",
       "      <th>35069353</th>\n",
       "      <td>51</td>\n",
       "      <td>2123791</td>\n",
       "      <td>2017-08-13</td>\n",
       "      <td>NaN</td>\n",
       "      <td>0.0</td>\n",
       "      <td>NaN</td>\n",
       "      <td>2017</td>\n",
       "      <td>8</td>\n",
       "      <td>13</td>\n",
       "      <td>6</td>\n",
       "      <td>0.000000</td>\n",
       "      <td>0.000000</td>\n",
       "    </tr>\n",
       "    <tr>\n",
       "      <th>35069354</th>\n",
       "      <td>51</td>\n",
       "      <td>2123791</td>\n",
       "      <td>2017-08-14</td>\n",
       "      <td>NaN</td>\n",
       "      <td>0.0</td>\n",
       "      <td>NaN</td>\n",
       "      <td>2017</td>\n",
       "      <td>8</td>\n",
       "      <td>14</td>\n",
       "      <td>0</td>\n",
       "      <td>0.000000</td>\n",
       "      <td>0.000000</td>\n",
       "    </tr>\n",
       "    <tr>\n",
       "      <th>35069355</th>\n",
       "      <td>51</td>\n",
       "      <td>2123791</td>\n",
       "      <td>2017-08-15</td>\n",
       "      <td>125491523.0</td>\n",
       "      <td>1.0</td>\n",
       "      <td>0.0</td>\n",
       "      <td>2017</td>\n",
       "      <td>8</td>\n",
       "      <td>15</td>\n",
       "      <td>1</td>\n",
       "      <td>0.142857</td>\n",
       "      <td>0.033333</td>\n",
       "    </tr>\n",
       "  </tbody>\n",
       "</table>\n",
       "</div>"
      ],
      "text/plain": [
       "          store_nbr  item_nbr       date           id  unit_sales  \\\n",
       "35069346         51   2123791 2017-08-06          NaN         0.0   \n",
       "35069347         51   2123791 2017-08-07          NaN         0.0   \n",
       "35069348         51   2123791 2017-08-08          NaN         0.0   \n",
       "35069349         51   2123791 2017-08-09          NaN         0.0   \n",
       "35069350         51   2123791 2017-08-10          NaN         0.0   \n",
       "35069351         51   2123791 2017-08-11          NaN         0.0   \n",
       "35069352         51   2123791 2017-08-12          NaN         0.0   \n",
       "35069353         51   2123791 2017-08-13          NaN         0.0   \n",
       "35069354         51   2123791 2017-08-14          NaN         0.0   \n",
       "35069355         51   2123791 2017-08-15  125491523.0         1.0   \n",
       "\n",
       "          onpromotion  year  month  day  day_of_week  unit_sales_7d_avg  \\\n",
       "35069346          NaN  2017      8    6            6           0.000000   \n",
       "35069347          NaN  2017      8    7            0           0.000000   \n",
       "35069348          NaN  2017      8    8            1           0.000000   \n",
       "35069349          NaN  2017      8    9            2           0.000000   \n",
       "35069350          NaN  2017      8   10            3           0.000000   \n",
       "35069351          NaN  2017      8   11            4           0.000000   \n",
       "35069352          NaN  2017      8   12            5           0.000000   \n",
       "35069353          NaN  2017      8   13            6           0.000000   \n",
       "35069354          NaN  2017      8   14            0           0.000000   \n",
       "35069355          0.0  2017      8   15            1           0.142857   \n",
       "\n",
       "          unit_sales_30d_avg  \n",
       "35069346            0.000000  \n",
       "35069347            0.000000  \n",
       "35069348            0.000000  \n",
       "35069349            0.000000  \n",
       "35069350            0.000000  \n",
       "35069351            0.000000  \n",
       "35069352            0.000000  \n",
       "35069353            0.000000  \n",
       "35069354            0.000000  \n",
       "35069355            0.033333  "
      ]
     },
     "execution_count": 54,
     "metadata": {},
     "output_type": "execute_result"
    }
   ],
   "source": [
    "# Calculating rolling average of unit_sales 7 days\n",
    "df_train['unit_sales_7d_avg'] = df_train.groupby(['item_nbr', 'store_nbr'])['unit_sales'].transform(lambda x: x.rolling(window=7).mean())\n",
    "# Calculating rolling average of unit_sales 30 days\n",
    "df_train['unit_sales_30d_avg'] = df_train.groupby(['item_nbr', 'store_nbr'])['unit_sales'].transform(lambda x: x.rolling(window=30).mean())\n",
    "df_train.tail(10)"
   ]
  },
  {
   "cell_type": "markdown",
   "metadata": {},
   "source": [
    "# **Exploratory Data Analysis (EDA)**"
   ]
  },
  {
   "cell_type": "code",
   "execution_count": 52,
   "metadata": {},
   "outputs": [
    {
     "data": {
      "image/png": "[encoded data removed]",
      "text/plain": [
       "<Figure size 1200x600 with 1 Axes>"
      ]
     },
     "metadata": {},
     "output_type": "display_data"
    }
   ],
   "source": [
    "# Aggregating total sales by date\n",
    "sales_by_date = df_train.groupby('date')['unit_sales'].sum()\n",
    "\n",
    "# Plotting the time-series\n",
    "plt.figure(figsize=(12,6))\n",
    "plt.plot(sales_by_date.index, sales_by_date.values)\n",
    "plt.title('Total Unit Sales Over Time in Guayas state', fontsize=20, fontweight='bold')\n",
    "plt.xlabel('Date', fontsize=16)\n",
    "plt.ylabel('Unit Sales', fontsize=16)\n",
    "plt.xticks(fontsize=14, rotation=45)\n",
    "plt.yticks(fontsize=14)\n",
    "plt.show()"
   ]
  },
  {
   "cell_type": "code",
   "execution_count": 62,
   "metadata": {},
   "outputs": [
    {
     "data": {
      "image/png": "[encoded data removed]",
      "text/plain": [
       "<Figure size 800x500 with 2 Axes>"
      ]
     },
     "metadata": {},
     "output_type": "display_data"
    }
   ],
   "source": [
    "# Aggregating sales by year and month\n",
    "sales_by_month = df_train.groupby(['year', 'month'])['unit_sales'].sum().unstack()\n",
    "\n",
    "# Plotting heatmap of sales by year and month\n",
    "import seaborn as sns\n",
    "import matplotlib.pyplot as plt\n",
    "\n",
    "plt.figure(figsize=(8, 5))  # Increase figure size for better visibility\n",
    "sns.heatmap(\n",
    "    sales_by_month,\n",
    "    cmap='coolwarm',  # Use a diverging colormap for better contrast\n",
    "    linewidths=0.5,  # Add lines between cells for clarity\n",
    "    linecolor='white',  # Use white lines for a cleaner look\n",
    "    cbar_kws={'label': 'Sales Volume'}  # Add a descriptive colorbar label\n",
    ")\n",
    "\n",
    "# Customizing title and axes labels\n",
    "plt.title('Monthly Sales Trends Over Years', fontsize=22, fontweight='bold')\n",
    "plt.xlabel('Month', fontsize=18, labelpad=10)  # Labelpad adds spacing\n",
    "plt.ylabel('Year', fontsize=18, labelpad=10)\n",
    "\n",
    "# Formatting tick labels\n",
    "plt.xticks(fontsize=14, rotation=45)  # Rotate x-axis labels for better readability\n",
    "plt.yticks(fontsize=14)\n",
    "\n",
    "# Adjust layout for better spacing\n",
    "plt.tight_layout()\n",
    "\n",
    "# Display the heatmap\n",
    "plt.show()"
   ]
  },
  {
   "cell_type": "markdown",
   "metadata": {},
   "source": [
    "Impact of Holidays"
   ]
  },
  {
   "cell_type": "code",
   "execution_count": 64,
   "metadata": {},
   "outputs": [
    {
     "name": "stdout",
     "output_type": "stream",
     "text": [
      "Holidays range: from 2012-03-02 till 2017-12-26\n"
     ]
    }
   ],
   "source": [
    "# Convert date column to datetime\n",
    "df_holiday['date'] = pd.to_datetime(df_holiday['date'])\n",
    "print(\"Holidays range: from\",df_holiday['date'].dt.date.min(),\"till\",df_holiday['date'].dt.date.max())"
   ]
  },
  {
   "cell_type": "code",
   "execution_count": 65,
   "metadata": {},
   "outputs": [],
   "source": [
    "df_train_no_zero_sales = df_train[df_train['unit_sales'] > 0]"
   ]
  },
  {
   "cell_type": "code",
   "execution_count": 66,
   "metadata": {},
   "outputs": [],
   "source": [
    "# Merging df_train with zero sales with data with holidays\n",
    "df_train_holiday = pd.merge(df_train_no_zero_sales, df_holiday, on='date', how='left')"
   ]
  },
  {
   "cell_type": "code",
   "execution_count": 67,
   "metadata": {},
   "outputs": [
    {
     "data": {
      "text/html": [
       "<div>\n",
       "<style scoped>\n",
       "    .dataframe tbody tr th:only-of-type {\n",
       "        vertical-align: middle;\n",
       "    }\n",
       "\n",
       "    .dataframe tbody tr th {\n",
       "        vertical-align: top;\n",
       "    }\n",
       "\n",
       "    .dataframe thead th {\n",
       "        text-align: right;\n",
       "    }\n",
       "</style>\n",
       "<table border=\"1\" class=\"dataframe\">\n",
       "  <thead>\n",
       "    <tr style=\"text-align: right;\">\n",
       "      <th></th>\n",
       "      <th>store_nbr</th>\n",
       "      <th>item_nbr</th>\n",
       "      <th>date</th>\n",
       "      <th>id</th>\n",
       "      <th>unit_sales</th>\n",
       "      <th>onpromotion</th>\n",
       "      <th>year</th>\n",
       "      <th>month</th>\n",
       "      <th>day</th>\n",
       "      <th>day_of_week</th>\n",
       "      <th>unit_sales_7d_avg</th>\n",
       "      <th>unit_sales_30d_avg</th>\n",
       "      <th>type</th>\n",
       "      <th>locale</th>\n",
       "      <th>locale_name</th>\n",
       "      <th>description</th>\n",
       "      <th>transferred</th>\n",
       "    </tr>\n",
       "  </thead>\n",
       "  <tbody>\n",
       "    <tr>\n",
       "      <th>0</th>\n",
       "      <td>24</td>\n",
       "      <td>105574</td>\n",
       "      <td>2013-01-02</td>\n",
       "      <td>18790.0</td>\n",
       "      <td>12.0</td>\n",
       "      <td>0.0</td>\n",
       "      <td>2013</td>\n",
       "      <td>1</td>\n",
       "      <td>2</td>\n",
       "      <td>2</td>\n",
       "      <td>NaN</td>\n",
       "      <td>NaN</td>\n",
       "      <td>NaN</td>\n",
       "      <td>NaN</td>\n",
       "      <td>NaN</td>\n",
       "      <td>NaN</td>\n",
       "      <td>NaN</td>\n",
       "    </tr>\n",
       "    <tr>\n",
       "      <th>1</th>\n",
       "      <td>24</td>\n",
       "      <td>105574</td>\n",
       "      <td>2013-01-03</td>\n",
       "      <td>59692.0</td>\n",
       "      <td>1.0</td>\n",
       "      <td>0.0</td>\n",
       "      <td>2013</td>\n",
       "      <td>1</td>\n",
       "      <td>3</td>\n",
       "      <td>3</td>\n",
       "      <td>NaN</td>\n",
       "      <td>NaN</td>\n",
       "      <td>NaN</td>\n",
       "      <td>NaN</td>\n",
       "      <td>NaN</td>\n",
       "      <td>NaN</td>\n",
       "      <td>NaN</td>\n",
       "    </tr>\n",
       "    <tr>\n",
       "      <th>2</th>\n",
       "      <td>24</td>\n",
       "      <td>105574</td>\n",
       "      <td>2013-01-04</td>\n",
       "      <td>99664.0</td>\n",
       "      <td>3.0</td>\n",
       "      <td>0.0</td>\n",
       "      <td>2013</td>\n",
       "      <td>1</td>\n",
       "      <td>4</td>\n",
       "      <td>4</td>\n",
       "      <td>NaN</td>\n",
       "      <td>NaN</td>\n",
       "      <td>NaN</td>\n",
       "      <td>NaN</td>\n",
       "      <td>NaN</td>\n",
       "      <td>NaN</td>\n",
       "      <td>NaN</td>\n",
       "    </tr>\n",
       "    <tr>\n",
       "      <th>3</th>\n",
       "      <td>24</td>\n",
       "      <td>105574</td>\n",
       "      <td>2013-01-05</td>\n",
       "      <td>140805.0</td>\n",
       "      <td>4.0</td>\n",
       "      <td>0.0</td>\n",
       "      <td>2013</td>\n",
       "      <td>1</td>\n",
       "      <td>5</td>\n",
       "      <td>5</td>\n",
       "      <td>NaN</td>\n",
       "      <td>NaN</td>\n",
       "      <td>Work Day</td>\n",
       "      <td>National</td>\n",
       "      <td>Ecuador</td>\n",
       "      <td>Recupero puente Navidad</td>\n",
       "      <td>False</td>\n",
       "    </tr>\n",
       "    <tr>\n",
       "      <th>4</th>\n",
       "      <td>24</td>\n",
       "      <td>105574</td>\n",
       "      <td>2013-01-06</td>\n",
       "      <td>182800.0</td>\n",
       "      <td>7.0</td>\n",
       "      <td>0.0</td>\n",
       "      <td>2013</td>\n",
       "      <td>1</td>\n",
       "      <td>6</td>\n",
       "      <td>6</td>\n",
       "      <td>NaN</td>\n",
       "      <td>NaN</td>\n",
       "      <td>NaN</td>\n",
       "      <td>NaN</td>\n",
       "      <td>NaN</td>\n",
       "      <td>NaN</td>\n",
       "      <td>NaN</td>\n",
       "    </tr>\n",
       "    <tr>\n",
       "      <th>...</th>\n",
       "      <td>...</td>\n",
       "      <td>...</td>\n",
       "      <td>...</td>\n",
       "      <td>...</td>\n",
       "      <td>...</td>\n",
       "      <td>...</td>\n",
       "      <td>...</td>\n",
       "      <td>...</td>\n",
       "      <td>...</td>\n",
       "      <td>...</td>\n",
       "      <td>...</td>\n",
       "      <td>...</td>\n",
       "      <td>...</td>\n",
       "      <td>...</td>\n",
       "      <td>...</td>\n",
       "      <td>...</td>\n",
       "      <td>...</td>\n",
       "    </tr>\n",
       "    <tr>\n",
       "      <th>15032306</th>\n",
       "      <td>29</td>\n",
       "      <td>2122868</td>\n",
       "      <td>2017-08-15</td>\n",
       "      <td>125447370.0</td>\n",
       "      <td>1.0</td>\n",
       "      <td>0.0</td>\n",
       "      <td>2017</td>\n",
       "      <td>8</td>\n",
       "      <td>15</td>\n",
       "      <td>1</td>\n",
       "      <td>0.142857</td>\n",
       "      <td>0.033333</td>\n",
       "      <td>Holiday</td>\n",
       "      <td>Local</td>\n",
       "      <td>Riobamba</td>\n",
       "      <td>Fundacion de Riobamba</td>\n",
       "      <td>False</td>\n",
       "    </tr>\n",
       "    <tr>\n",
       "      <th>15032307</th>\n",
       "      <td>29</td>\n",
       "      <td>2123839</td>\n",
       "      <td>2017-08-15</td>\n",
       "      <td>125447372.0</td>\n",
       "      <td>6.0</td>\n",
       "      <td>0.0</td>\n",
       "      <td>2017</td>\n",
       "      <td>8</td>\n",
       "      <td>15</td>\n",
       "      <td>1</td>\n",
       "      <td>0.857143</td>\n",
       "      <td>0.200000</td>\n",
       "      <td>Holiday</td>\n",
       "      <td>Local</td>\n",
       "      <td>Riobamba</td>\n",
       "      <td>Fundacion de Riobamba</td>\n",
       "      <td>False</td>\n",
       "    </tr>\n",
       "    <tr>\n",
       "      <th>15032308</th>\n",
       "      <td>51</td>\n",
       "      <td>2123750</td>\n",
       "      <td>2017-08-15</td>\n",
       "      <td>125491521.0</td>\n",
       "      <td>3.0</td>\n",
       "      <td>0.0</td>\n",
       "      <td>2017</td>\n",
       "      <td>8</td>\n",
       "      <td>15</td>\n",
       "      <td>1</td>\n",
       "      <td>0.428571</td>\n",
       "      <td>0.100000</td>\n",
       "      <td>Holiday</td>\n",
       "      <td>Local</td>\n",
       "      <td>Riobamba</td>\n",
       "      <td>Fundacion de Riobamba</td>\n",
       "      <td>False</td>\n",
       "    </tr>\n",
       "    <tr>\n",
       "      <th>15032309</th>\n",
       "      <td>51</td>\n",
       "      <td>2123775</td>\n",
       "      <td>2017-08-15</td>\n",
       "      <td>125491522.0</td>\n",
       "      <td>1.0</td>\n",
       "      <td>0.0</td>\n",
       "      <td>2017</td>\n",
       "      <td>8</td>\n",
       "      <td>15</td>\n",
       "      <td>1</td>\n",
       "      <td>0.142857</td>\n",
       "      <td>0.033333</td>\n",
       "      <td>Holiday</td>\n",
       "      <td>Local</td>\n",
       "      <td>Riobamba</td>\n",
       "      <td>Fundacion de Riobamba</td>\n",
       "      <td>False</td>\n",
       "    </tr>\n",
       "    <tr>\n",
       "      <th>15032310</th>\n",
       "      <td>51</td>\n",
       "      <td>2123791</td>\n",
       "      <td>2017-08-15</td>\n",
       "      <td>125491523.0</td>\n",
       "      <td>1.0</td>\n",
       "      <td>0.0</td>\n",
       "      <td>2017</td>\n",
       "      <td>8</td>\n",
       "      <td>15</td>\n",
       "      <td>1</td>\n",
       "      <td>0.142857</td>\n",
       "      <td>0.033333</td>\n",
       "      <td>Holiday</td>\n",
       "      <td>Local</td>\n",
       "      <td>Riobamba</td>\n",
       "      <td>Fundacion de Riobamba</td>\n",
       "      <td>False</td>\n",
       "    </tr>\n",
       "  </tbody>\n",
       "</table>\n",
       "<p>15032311 rows × 17 columns</p>\n",
       "</div>"
      ],
      "text/plain": [
       "          store_nbr  item_nbr       date           id  unit_sales  \\\n",
       "0                24    105574 2013-01-02      18790.0        12.0   \n",
       "1                24    105574 2013-01-03      59692.0         1.0   \n",
       "2                24    105574 2013-01-04      99664.0         3.0   \n",
       "3                24    105574 2013-01-05     140805.0         4.0   \n",
       "4                24    105574 2013-01-06     182800.0         7.0   \n",
       "...             ...       ...        ...          ...         ...   \n",
       "15032306         29   2122868 2017-08-15  125447370.0         1.0   \n",
       "15032307         29   2123839 2017-08-15  125447372.0         6.0   \n",
       "15032308         51   2123750 2017-08-15  125491521.0         3.0   \n",
       "15032309         51   2123775 2017-08-15  125491522.0         1.0   \n",
       "15032310         51   2123791 2017-08-15  125491523.0         1.0   \n",
       "\n",
       "          onpromotion  year  month  day  day_of_week  unit_sales_7d_avg  \\\n",
       "0                 0.0  2013      1    2            2                NaN   \n",
       "1                 0.0  2013      1    3            3                NaN   \n",
       "2                 0.0  2013      1    4            4                NaN   \n",
       "3                 0.0  2013      1    5            5                NaN   \n",
       "4                 0.0  2013      1    6            6                NaN   \n",
       "...               ...   ...    ...  ...          ...                ...   \n",
       "15032306          0.0  2017      8   15            1           0.142857   \n",
       "15032307          0.0  2017      8   15            1           0.857143   \n",
       "15032308          0.0  2017      8   15            1           0.428571   \n",
       "15032309          0.0  2017      8   15            1           0.142857   \n",
       "15032310          0.0  2017      8   15            1           0.142857   \n",
       "\n",
       "          unit_sales_30d_avg      type    locale locale_name  \\\n",
       "0                        NaN       NaN       NaN         NaN   \n",
       "1                        NaN       NaN       NaN         NaN   \n",
       "2                        NaN       NaN       NaN         NaN   \n",
       "3                        NaN  Work Day  National     Ecuador   \n",
       "4                        NaN       NaN       NaN         NaN   \n",
       "...                      ...       ...       ...         ...   \n",
       "15032306            0.033333   Holiday     Local    Riobamba   \n",
       "15032307            0.200000   Holiday     Local    Riobamba   \n",
       "15032308            0.100000   Holiday     Local    Riobamba   \n",
       "15032309            0.033333   Holiday     Local    Riobamba   \n",
       "15032310            0.033333   Holiday     Local    Riobamba   \n",
       "\n",
       "                      description transferred  \n",
       "0                             NaN         NaN  \n",
       "1                             NaN         NaN  \n",
       "2                             NaN         NaN  \n",
       "3         Recupero puente Navidad       False  \n",
       "4                             NaN         NaN  \n",
       "...                           ...         ...  \n",
       "15032306    Fundacion de Riobamba       False  \n",
       "15032307    Fundacion de Riobamba       False  \n",
       "15032308    Fundacion de Riobamba       False  \n",
       "15032309    Fundacion de Riobamba       False  \n",
       "15032310    Fundacion de Riobamba       False  \n",
       "\n",
       "[15032311 rows x 17 columns]"
      ]
     },
     "execution_count": 67,
     "metadata": {},
     "output_type": "execute_result"
    }
   ],
   "source": [
    "df_train_holiday"
   ]
  },
  {
   "cell_type": "code",
   "execution_count": 68,
   "metadata": {},
   "outputs": [
    {
     "data": {
      "text/plain": [
       "store_nbr                    0\n",
       "item_nbr                     0\n",
       "date                         0\n",
       "id                           0\n",
       "unit_sales                   0\n",
       "onpromotion                  0\n",
       "year                         0\n",
       "month                        0\n",
       "day                          0\n",
       "day_of_week                  0\n",
       "unit_sales_7d_avg        29995\n",
       "unit_sales_30d_avg      143269\n",
       "type                  12488638\n",
       "locale                12488638\n",
       "locale_name           12488638\n",
       "description           12488638\n",
       "transferred           12488638\n",
       "dtype: int64"
      ]
     },
     "execution_count": 68,
     "metadata": {},
     "output_type": "execute_result"
    }
   ],
   "source": [
    "df_train_holiday.isnull().sum()"
   ]
  },
  {
   "cell_type": "code",
   "execution_count": 69,
   "metadata": {},
   "outputs": [
    {
     "data": {
      "image/png": "[encoded data removed]",
      "text/plain": [
       "<Figure size 800x500 with 1 Axes>"
      ]
     },
     "metadata": {},
     "output_type": "display_data"
    }
   ],
   "source": [
    "# Aggregating sales by holiday and non-holiday\n",
    "holiday_sales = df_train_holiday.groupby('type')['unit_sales'].mean()\n",
    "\n",
    "# Plotting holiday impact\n",
    "plt.figure(figsize=(8,5))\n",
    "holiday_sales.plot(kind='bar', color='lightgreen', edgecolor='black')\n",
    "plt.title('Impact of Holidays on Sales', fontsize=20, fontweight='bold')\n",
    "plt.ylabel('Average Unit Sales', fontsize=16)\n",
    "plt.xlabel('')\n",
    "plt.xticks(fontsize=14)\n",
    "plt.yticks(fontsize=14)\n",
    "plt.show()"
   ]
  }
 ],
 "metadata": {
  "colab": {
   "authorship_tag": "ABX9TyOMMu64ono0rBAa92ogacZZ",
   "provenance": [],
   "toc_visible": true
  },
  "kernelspec": {
   "display_name": "Python 3",
   "name": "python3"
  },
  "language_info": {
   "codemirror_mode": {
    "name": "ipython",
    "version": 3
   },
   "file_extension": ".py",
   "mimetype": "text/x-python",
   "name": "python",
   "nbconvert_exporter": "python",
   "pygments_lexer": "ipython3",
   "version": "3.13.0"
  }
 },
 "nbformat": 4,
 "nbformat_minor": 0
}
